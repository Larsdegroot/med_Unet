{
 "cells": [
  {
   "cell_type": "markdown",
   "id": "30870c20-f202-41cb-a8ce-0a8fc27a452b",
   "metadata": {},
   "source": [
    "# Debug notebook\n",
    "This notebook is meant to be used to look into the classes and test if they are working as expected"
   ]
  },
  {
   "cell_type": "code",
   "execution_count": 1,
   "id": "f85974de-e44c-4bee-9581-80fa32870650",
   "metadata": {},
   "outputs": [
    {
     "name": "stderr",
     "output_type": "stream",
     "text": [
      "/Users/lars/Documents/Education/Bioinformatics/ai_for_medical_imaging/project/med_Unet/venv/lib/python3.10/site-packages/tqdm/auto.py:21: TqdmWarning: IProgress not found. Please update jupyter and ipywidgets. See https://ipywidgets.readthedocs.io/en/stable/user_install.html\n",
      "  from .autonotebook import tqdm as notebook_tqdm\n",
      "Attribute 'final_activation' is an instance of `nn.Module` and is already saved during checkpointing. It is recommended to ignore them using `self.save_hyperparameters(ignore=['final_activation'])`.\n",
      "GPU available: False, used: False\n",
      "TPU available: False, using: 0 TPU cores\n",
      "HPU available: False, using: 0 HPUs\n"
     ]
    }
   ],
   "source": [
    "from pytorch_lightning import Trainer\n",
    "from data_loading import MRIDataModule\n",
    "from pathlib import Path\n",
    "from model import *\n",
    "\n",
    "# Path to dataset\n",
    "data_dir = Path(\"data/WMH\")\n",
    "\n",
    "# Initialize the DataModule\n",
    "batch_size = 4\n",
    "data_module = MRIDataModule(dataset=\"wmh\", batch_size=batch_size)\n",
    "\n",
    "# Instantiate the LightningModule\n",
    "model = LitUNet(\n",
    "    n_dims=3,\n",
    "    input_keys=[\"flair\", \"t1\"],\n",
    "    label_key=\"WMH\",\n",
    "    in_channels=2,\n",
    "    out_channels=1,\n",
    "    base_channels=8,\n",
    "    depth=3,\n",
    "    use_transpose=False,\n",
    "    use_normalization=True,\n",
    "    learning_rate=1e-3,\n",
    ")\n",
    "\n",
    "# Train with PyTorch Lightning\n",
    "trainer = Trainer(max_epochs=1, accelerator=\"auto\")"
   ]
  },
  {
   "cell_type": "code",
   "execution_count": 2,
   "id": "254b7bee-1d9c-44a0-a571-a2746d87b19f",
   "metadata": {
    "scrolled": true
   },
   "outputs": [
    {
     "name": "stderr",
     "output_type": "stream",
     "text": [
      "Loading dataset: 100%|██████████| 48/48 [00:15<00:00,  3.05it/s]\n",
      "Loading dataset: 100%|██████████| 6/6 [00:01<00:00,  3.47it/s]\n",
      "Loading dataset: 100%|██████████| 7/7 [00:02<00:00,  3.19it/s]\n"
     ]
    },
    {
     "ename": "TypeError",
     "evalue": "list indices must be integers or slices, not str",
     "output_type": "error",
     "traceback": [
      "\u001b[0;31m---------------------------------------------------------------------------\u001b[0m",
      "\u001b[0;31mTypeError\u001b[0m                                 Traceback (most recent call last)",
      "Cell \u001b[0;32mIn[2], line 3\u001b[0m\n\u001b[1;32m      1\u001b[0m data_module\u001b[38;5;241m.\u001b[39msetup()\n\u001b[1;32m      2\u001b[0m \u001b[38;5;28;01mfor\u001b[39;00m batch \u001b[38;5;129;01min\u001b[39;00m data_module\u001b[38;5;241m.\u001b[39mtrain_dataloader():\n\u001b[0;32m----> 3\u001b[0m     \u001b[38;5;28mprint\u001b[39m(\u001b[43mbatch\u001b[49m\u001b[43m[\u001b[49m\u001b[38;5;124;43m'\u001b[39;49m\u001b[38;5;124;43mflair\u001b[39;49m\u001b[38;5;124;43m'\u001b[39;49m\u001b[43m]\u001b[49m\u001b[38;5;241m.\u001b[39mshape)  \u001b[38;5;66;03m# Should output: [batch_size, 1, 128, 128, 128]\u001b[39;00m\n\u001b[1;32m      4\u001b[0m     \u001b[38;5;66;03m# vis_slice(batch, 0)\u001b[39;00m\n",
      "\u001b[0;31mTypeError\u001b[0m: list indices must be integers or slices, not str"
     ]
    }
   ],
   "source": [
    "data_module.setup()\n",
    "for batch in data_module.train_dataloader():\n",
    "    print(batch['flair'].shape)  # Should output: [batch_size, 1, 128, 128, 128]\n",
    "    # vis_slice(batch, 0)"
   ]
  },
  {
   "cell_type": "markdown",
   "id": "2b37bdb3-7099-4d46-a94f-3c11ddf494d0",
   "metadata": {},
   "source": [
    "# Building function that creates a 2d dataset"
   ]
  },
  {
   "cell_type": "code",
   "execution_count": null,
   "id": "477287e9-f879-4c64-9a31-dd743205d39b",
   "metadata": {},
   "outputs": [],
   "source": [
    "def vis_slice(batch, batch_number, key):\n",
    "    image = batch[key]\n",
    "    \n",
    "    # Select a slice to visualize (e.g., the middle slice)\n",
    "    slice_index = image.shape[2] // 2\n",
    "\n",
    "    # Create subplots\n",
    "    fig, axes = plt.subplots(1, 3, figsize=(15, 5))\n",
    "    \n",
    "    # FLAIR Image\n",
    "    axes[0].imshow(image[batch_number, 0, slice_index, :, :], cmap='gray')\n",
    "    axes[0].set_title('first dim')\n",
    "    axes[0].axis('off')\n",
    "\n",
    "        # FLAIR Image\n",
    "    axes[1].imshow(image[batch_number, 0, :, slice_index, :], cmap='gray')\n",
    "    axes[1].set_title('second dim')\n",
    "    axes[1].axis('off')\n",
    "\n",
    "        # FLAIR Image\n",
    "    axes[2].imshow(image[batch_number, 0, :, :, slice_index], cmap='gray')\n",
    "    axes[2].set_title('third dim')\n",
    "    axes[2].axis('off')\n",
    "\n",
    "\n",
    "\n",
    "    plt.show()"
   ]
  },
  {
   "cell_type": "code",
   "execution_count": null,
   "id": "df45837d-cd2b-4c5e-b282-4ee4b0f15ee8",
   "metadata": {
    "scrolled": true
   },
   "outputs": [],
   "source": [
    "for batch_number in range(batch_size):\n",
    "    vis_slice(batch, batch_number, \"flair\")"
   ]
  },
  {
   "cell_type": "code",
   "execution_count": null,
   "id": "0f57b428-59f5-4a4f-85e5-a3847a5e0cd8",
   "metadata": {},
   "outputs": [],
   "source": [
    "vis_slice(batch, 0, \"seg\")"
   ]
  },
  {
   "cell_type": "code",
   "execution_count": null,
   "id": "1027340f-d3a8-462f-9102-2c430ed40388",
   "metadata": {},
   "outputs": [],
   "source": []
  }
 ],
 "metadata": {
  "kernelspec": {
   "display_name": "Python 3 (ipykernel)",
   "language": "python",
   "name": "python3"
  },
  "language_info": {
   "codemirror_mode": {
    "name": "ipython",
    "version": 3
   },
   "file_extension": ".py",
   "mimetype": "text/x-python",
   "name": "python",
   "nbconvert_exporter": "python",
   "pygments_lexer": "ipython3",
   "version": "3.10.16"
  }
 },
 "nbformat": 4,
 "nbformat_minor": 5
}
