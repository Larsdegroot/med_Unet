{
 "cells": [
  {
   "cell_type": "markdown",
   "id": "30870c20-f202-41cb-a8ce-0a8fc27a452b",
   "metadata": {},
   "source": [
    "# Debug notebook\n",
    "This notebook is meant to be used to look into the classes and test if they are working as expected"
   ]
  },
  {
   "cell_type": "code",
   "execution_count": 1,
   "id": "f85974de-e44c-4bee-9581-80fa32870650",
   "metadata": {},
   "outputs": [
    {
     "name": "stderr",
     "output_type": "stream",
     "text": [
      "/Users/lars/Documents/Education/Bioinformatics/ai_for_medical_imaging/project/med_Unet/venv/lib/python3.10/site-packages/tqdm/auto.py:21: TqdmWarning: IProgress not found. Please update jupyter and ipywidgets. See https://ipywidgets.readthedocs.io/en/stable/user_install.html\n",
      "  from .autonotebook import tqdm as notebook_tqdm\n",
      "GPU available: False, used: False\n",
      "TPU available: False, using: 0 TPU cores\n",
      "HPU available: False, using: 0 HPUs\n"
     ]
    }
   ],
   "source": [
    "from pytorch_lightning import Trainer\n",
    "from data_loading import MRIDataModule\n",
    "from pathlib import Path\n",
    "import yaml\n",
    "from model import *\n",
    "\n",
    "# Load the YAML configuration file\n",
    "with open('configs/default_config_2.yaml', 'r') as file:\n",
    "    config = yaml.safe_load(file)\n",
    "\n",
    "data_module = MRIDataModule(**config[\"data\"])\n",
    "\n",
    "# Instantiate the LightningModule\n",
    "model = LitUNet(**config[\"model\"])\n",
    "\n",
    "# Train with PyTorch Lightning\n",
    "trainer = Trainer(max_epochs=1, accelerator=\"auto\")"
   ]
  },
  {
   "cell_type": "code",
   "execution_count": 2,
   "id": "254b7bee-1d9c-44a0-a571-a2746d87b19f",
   "metadata": {
    "scrolled": true
   },
   "outputs": [
    {
     "name": "stderr",
     "output_type": "stream",
     "text": [
      "Loading dataset: 100%|██████████| 146/146 [00:40<00:00,  3.64it/s]\n",
      "Loading dataset: 100%|██████████| 18/18 [00:05<00:00,  3.57it/s]\n",
      "Loading dataset: 100%|██████████| 19/19 [00:05<00:00,  3.31it/s]\n"
     ]
    },
    {
     "name": "stdout",
     "output_type": "stream",
     "text": [
      "torch.Size([4, 1, 128, 128, 128])\n",
      "torch.Size([4, 1, 128, 128, 128])\n",
      "torch.Size([4, 1, 128, 128, 128])\n",
      "torch.Size([4, 1, 128, 128, 128])\n",
      "torch.Size([4, 1, 128, 128, 128])\n",
      "torch.Size([4, 1, 128, 128, 128])\n",
      "torch.Size([4, 1, 128, 128, 128])\n",
      "torch.Size([4, 1, 128, 128, 128])\n",
      "torch.Size([4, 1, 128, 128, 128])\n",
      "torch.Size([4, 1, 128, 128, 128])\n",
      "torch.Size([4, 1, 128, 128, 128])\n",
      "torch.Size([4, 1, 128, 128, 128])\n",
      "torch.Size([4, 1, 128, 128, 128])\n",
      "torch.Size([4, 1, 128, 128, 128])\n",
      "torch.Size([4, 1, 128, 128, 128])\n",
      "torch.Size([4, 1, 128, 128, 128])\n",
      "torch.Size([4, 1, 128, 128, 128])\n",
      "torch.Size([4, 1, 128, 128, 128])\n",
      "torch.Size([4, 1, 128, 128, 128])\n",
      "torch.Size([4, 1, 128, 128, 128])\n",
      "torch.Size([4, 1, 128, 128, 128])\n",
      "torch.Size([4, 1, 128, 128, 128])\n",
      "torch.Size([4, 1, 128, 128, 128])\n",
      "torch.Size([4, 1, 128, 128, 128])\n",
      "torch.Size([4, 1, 128, 128, 128])\n",
      "torch.Size([4, 1, 128, 128, 128])\n",
      "torch.Size([4, 1, 128, 128, 128])\n",
      "torch.Size([4, 1, 128, 128, 128])\n",
      "torch.Size([4, 1, 128, 128, 128])\n",
      "torch.Size([4, 1, 128, 128, 128])\n",
      "torch.Size([4, 1, 128, 128, 128])\n",
      "torch.Size([4, 1, 128, 128, 128])\n",
      "torch.Size([4, 1, 128, 128, 128])\n",
      "torch.Size([4, 1, 128, 128, 128])\n",
      "torch.Size([4, 1, 128, 128, 128])\n",
      "torch.Size([4, 1, 128, 128, 128])\n",
      "torch.Size([2, 1, 128, 128, 128])\n"
     ]
    }
   ],
   "source": [
    "data_module.setup()\n",
    "for batch in data_module.train_dataloader():\n",
    "    print(batch['flair'].shape)  # Should output: [batch_size, 1, 128, 128, 128]\n",
    "    # vis_slice(batch, 0)"
   ]
  },
  {
   "cell_type": "markdown",
   "id": "2b37bdb3-7099-4d46-a94f-3c11ddf494d0",
   "metadata": {},
   "source": [
    "# Building function that creates a 2d dataset"
   ]
  },
  {
   "cell_type": "code",
   "execution_count": null,
   "id": "477287e9-f879-4c64-9a31-dd743205d39b",
   "metadata": {},
   "outputs": [],
   "source": [
    "def vis_slice(batch, batch_number, key):\n",
    "    image = batch[key]\n",
    "    \n",
    "    # Select a slice to visualize (e.g., the middle slice)\n",
    "    slice_index = image.shape[2] // 2\n",
    "\n",
    "    # Create subplots\n",
    "    fig, axes = plt.subplots(1, 3, figsize=(15, 5))\n",
    "    \n",
    "    # FLAIR Image\n",
    "    axes[0].imshow(image[batch_number, 0, slice_index, :, :], cmap='gray')\n",
    "    axes[0].set_title('first dim')\n",
    "    axes[0].axis('off')\n",
    "\n",
    "        # FLAIR Image\n",
    "    axes[1].imshow(image[batch_number, 0, :, slice_index, :], cmap='gray')\n",
    "    axes[1].set_title('second dim')\n",
    "    axes[1].axis('off')\n",
    "\n",
    "        # FLAIR Image\n",
    "    axes[2].imshow(image[batch_number, 0, :, :, slice_index], cmap='gray')\n",
    "    axes[2].set_title('third dim')\n",
    "    axes[2].axis('off')\n",
    "\n",
    "\n",
    "\n",
    "    plt.show()"
   ]
  },
  {
   "cell_type": "code",
   "execution_count": null,
   "id": "df45837d-cd2b-4c5e-b282-4ee4b0f15ee8",
   "metadata": {
    "scrolled": true
   },
   "outputs": [],
   "source": [
    "for batch_number in range(batch_size):\n",
    "    vis_slice(batch, batch_number, \"flair\")"
   ]
  },
  {
   "cell_type": "code",
   "execution_count": null,
   "id": "0f57b428-59f5-4a4f-85e5-a3847a5e0cd8",
   "metadata": {},
   "outputs": [],
   "source": [
    "vis_slice(batch, 0, \"seg\")"
   ]
  },
  {
   "cell_type": "code",
   "execution_count": null,
   "id": "1027340f-d3a8-462f-9102-2c430ed40388",
   "metadata": {},
   "outputs": [],
   "source": []
  }
 ],
 "metadata": {
  "kernelspec": {
   "display_name": "Python 3 (ipykernel)",
   "language": "python",
   "name": "python3"
  },
  "language_info": {
   "codemirror_mode": {
    "name": "ipython",
    "version": 3
   },
   "file_extension": ".py",
   "mimetype": "text/x-python",
   "name": "python",
   "nbconvert_exporter": "python",
   "pygments_lexer": "ipython3",
   "version": "3.10.16"
  }
 },
 "nbformat": 4,
 "nbformat_minor": 5
}
