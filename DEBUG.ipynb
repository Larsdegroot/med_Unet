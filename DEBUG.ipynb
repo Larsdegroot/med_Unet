{
 "cells": [
  {
   "cell_type": "markdown",
   "id": "30870c20-f202-41cb-a8ce-0a8fc27a452b",
   "metadata": {},
   "source": [
    "# Debug notebook\n",
    "This notebook is meant to be used to look into the classes and test if they are working as expected"
   ]
  },
  {
   "cell_type": "code",
   "execution_count": 2,
   "id": "f85974de-e44c-4bee-9581-80fa32870650",
   "metadata": {},
   "outputs": [
    {
     "name": "stderr",
     "output_type": "stream",
     "text": [
      "Attribute 'final_activation' is an instance of `nn.Module` and is already saved during checkpointing. It is recommended to ignore them using `self.save_hyperparameters(ignore=['final_activation'])`.\n",
      "GPU available: False, used: False\n",
      "TPU available: False, using: 0 TPU cores\n",
      "HPU available: False, using: 0 HPUs\n"
     ]
    }
   ],
   "source": [
    "from pytorch_lightning import Trainer\n",
    "from data_loading import WMHDataModule\n",
    "from pathlib import Path\n",
    "from model import *\n",
    "\n",
    "# Path to dataset\n",
    "data_dir = Path(\"data/WMH\")\n",
    "\n",
    "# Initialize the DataModule\n",
    "data_module = WMHDataModule(data_dir=data_dir, batch_size=4)\n",
    "\n",
    "# Instantiate the LightningModule\n",
    "model = LitUNet(\n",
    "    n_dims=3,\n",
    "    in_channels=1,\n",
    "    out_channels=1,\n",
    "    base_channels=8,\n",
    "    depth=3,\n",
    "    use_transpose=False,\n",
    "    use_normalization=True,\n",
    "    learning_rate=1e-3,\n",
    ")\n",
    "\n",
    "# Train with PyTorch Lightning\n",
    "trainer = Trainer(max_epochs=1, accelerator=\"auto\")"
   ]
  },
  {
   "cell_type": "code",
   "execution_count": 5,
   "id": "254b7bee-1d9c-44a0-a571-a2746d87b19f",
   "metadata": {},
   "outputs": [
    {
     "name": "stderr",
     "output_type": "stream",
     "text": [
      "Loading dataset: 100%|██████████| 48/48 [00:13<00:00,  3.58it/s]\n",
      "Loading dataset: 100%|██████████| 6/6 [00:01<00:00,  3.36it/s]\n",
      "Loading dataset: 100%|██████████| 6/6 [00:01<00:00,  3.65it/s]"
     ]
    },
    {
     "name": "stdout",
     "output_type": "stream",
     "text": [
      "torch.Size([4, 1, 128, 128, 128])\n"
     ]
    },
    {
     "name": "stderr",
     "output_type": "stream",
     "text": [
      "\n"
     ]
    }
   ],
   "source": [
    "data_module.setup()\n",
    "for batch in data_module.train_dataloader():\n",
    "    print(batch['flair'].shape)  # Should output: [batch_size, 1, 128, 128, 128]\n",
    "    break"
   ]
  }
 ],
 "metadata": {
  "kernelspec": {
   "display_name": "Python 3 (ipykernel)",
   "language": "python",
   "name": "python3"
  },
  "language_info": {
   "codemirror_mode": {
    "name": "ipython",
    "version": 3
   },
   "file_extension": ".py",
   "mimetype": "text/x-python",
   "name": "python",
   "nbconvert_exporter": "python",
   "pygments_lexer": "ipython3",
   "version": "3.10.16"
  }
 },
 "nbformat": 4,
 "nbformat_minor": 5
}
