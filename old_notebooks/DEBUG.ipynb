{
 "cells": [
  {
   "cell_type": "markdown",
   "id": "30870c20-f202-41cb-a8ce-0a8fc27a452b",
   "metadata": {},
   "source": [
    "# Debug notebook\n",
    "This notebook is meant to be used to look into the classes and test if they are working as expected"
   ]
  },
  {
   "cell_type": "code",
   "execution_count": 1,
   "id": "f85974de-e44c-4bee-9581-80fa32870650",
   "metadata": {},
   "outputs": [
    {
     "name": "stderr",
     "output_type": "stream",
     "text": [
      "/Users/lars/Documents/Education/Bioinformatics/ai_for_medical_imaging/project/med_Unet/venv/lib/python3.10/site-packages/tqdm/auto.py:21: TqdmWarning: IProgress not found. Please update jupyter and ipywidgets. See https://ipywidgets.readthedocs.io/en/stable/user_install.html\n",
      "  from .autonotebook import tqdm as notebook_tqdm\n",
      "GPU available: False, used: False\n",
      "TPU available: False, using: 0 TPU cores\n",
      "HPU available: False, using: 0 HPUs\n"
     ]
    }
   ],
   "source": [
    "from pytorch_lightning import Trainer\n",
    "from data_loading import MRIDataModule\n",
    "from pathlib import Path\n",
    "import yaml\n",
    "from model import *\n",
    "\n",
    "# Load the YAML configuration file\n",
    "with open('configs/configs_exp_7_brats-Copy1.yaml', 'r') as file:\n",
    "    config = yaml.safe_load(file)\n",
    "\n",
    "data_module = MRIDataModule(**config[\"data\"])\n",
    "\n",
    "# Instantiate the LightningModule\n",
    "model = LitUNet(**config[\"model\"])\n",
    "\n",
    "# Train with PyTorch Lightning\n",
    "trainer = Trainer(max_epochs=1, accelerator=\"auto\")"
   ]
  },
  {
   "cell_type": "code",
   "execution_count": 2,
   "id": "254b7bee-1d9c-44a0-a571-a2746d87b19f",
   "metadata": {
    "scrolled": true
   },
   "outputs": [
    {
     "name": "stderr",
     "output_type": "stream",
     "text": [
      "Loading dataset:   0%|          | 0/24 [00:00<?, ?it/s]"
     ]
    },
    {
     "name": "stdout",
     "output_type": "stream",
     "text": [
      "seg\n",
      "metatensor([0., 1., 2., 4.])\n",
      "metatensor([0., 1.])\n"
     ]
    },
    {
     "name": "stderr",
     "output_type": "stream",
     "text": [
      "Loading dataset:   4%|▍         | 1/24 [00:00<00:08,  2.67it/s]"
     ]
    },
    {
     "name": "stdout",
     "output_type": "stream",
     "text": [
      "seg\n",
      "metatensor([0., 1., 2., 4.])\n",
      "metatensor([0., 1.])\n"
     ]
    },
    {
     "name": "stderr",
     "output_type": "stream",
     "text": [
      "Loading dataset:   8%|▊         | 2/24 [00:00<00:07,  2.77it/s]"
     ]
    },
    {
     "name": "stdout",
     "output_type": "stream",
     "text": [
      "seg\n",
      "metatensor([0., 1., 2., 4.])\n",
      "metatensor([0., 1.])\n"
     ]
    },
    {
     "name": "stderr",
     "output_type": "stream",
     "text": [
      "Loading dataset:  12%|█▎        | 3/24 [00:01<00:07,  2.82it/s]"
     ]
    },
    {
     "name": "stdout",
     "output_type": "stream",
     "text": [
      "seg\n",
      "metatensor([0., 1., 2., 4.])\n",
      "metatensor([0., 1.])\n"
     ]
    },
    {
     "name": "stderr",
     "output_type": "stream",
     "text": [
      "Loading dataset:  17%|█▋        | 4/24 [00:01<00:07,  2.83it/s]"
     ]
    },
    {
     "name": "stdout",
     "output_type": "stream",
     "text": [
      "seg\n",
      "metatensor([0., 1., 2., 4.])\n",
      "metatensor([0., 1.])\n"
     ]
    },
    {
     "name": "stderr",
     "output_type": "stream",
     "text": [
      "Loading dataset:  21%|██        | 5/24 [00:01<00:06,  2.82it/s]"
     ]
    },
    {
     "name": "stdout",
     "output_type": "stream",
     "text": [
      "seg\n",
      "metatensor([0., 1., 2., 4.])\n",
      "metatensor([0., 1.])\n"
     ]
    },
    {
     "name": "stderr",
     "output_type": "stream",
     "text": [
      "Loading dataset:  25%|██▌       | 6/24 [00:02<00:06,  2.84it/s]"
     ]
    },
    {
     "name": "stdout",
     "output_type": "stream",
     "text": [
      "seg\n",
      "metatensor([0., 1., 2., 4.])\n",
      "metatensor([0., 1.])\n"
     ]
    },
    {
     "name": "stderr",
     "output_type": "stream",
     "text": [
      "Loading dataset:  29%|██▉       | 7/24 [00:02<00:05,  2.87it/s]"
     ]
    },
    {
     "name": "stdout",
     "output_type": "stream",
     "text": [
      "seg\n",
      "metatensor([0., 1., 2., 4.])\n",
      "metatensor([0., 1.])\n"
     ]
    },
    {
     "name": "stderr",
     "output_type": "stream",
     "text": [
      "Loading dataset:  33%|███▎      | 8/24 [00:02<00:05,  2.87it/s]"
     ]
    },
    {
     "name": "stdout",
     "output_type": "stream",
     "text": [
      "seg\n",
      "metatensor([0., 1., 2., 4.])\n",
      "metatensor([0., 1.])\n"
     ]
    },
    {
     "name": "stderr",
     "output_type": "stream",
     "text": [
      "Loading dataset:  38%|███▊      | 9/24 [00:03<00:05,  2.88it/s]"
     ]
    },
    {
     "name": "stdout",
     "output_type": "stream",
     "text": [
      "seg\n",
      "metatensor([0., 1., 2., 4.])\n",
      "metatensor([0., 1.])\n"
     ]
    },
    {
     "name": "stderr",
     "output_type": "stream",
     "text": [
      "Loading dataset:  42%|████▏     | 10/24 [00:03<00:04,  2.89it/s]"
     ]
    },
    {
     "name": "stdout",
     "output_type": "stream",
     "text": [
      "seg\n",
      "metatensor([0., 1., 2., 4.])\n",
      "metatensor([0., 1.])\n"
     ]
    },
    {
     "name": "stderr",
     "output_type": "stream",
     "text": [
      "Loading dataset:  46%|████▌     | 11/24 [00:03<00:04,  2.87it/s]"
     ]
    },
    {
     "name": "stdout",
     "output_type": "stream",
     "text": [
      "seg\n",
      "metatensor([0., 1., 2., 4.])\n",
      "metatensor([0., 1.])\n"
     ]
    },
    {
     "name": "stderr",
     "output_type": "stream",
     "text": [
      "Loading dataset:  50%|█████     | 12/24 [00:04<00:04,  2.87it/s]"
     ]
    },
    {
     "name": "stdout",
     "output_type": "stream",
     "text": [
      "seg\n",
      "metatensor([0., 1., 2., 4.])\n",
      "metatensor([0., 1.])\n"
     ]
    },
    {
     "name": "stderr",
     "output_type": "stream",
     "text": [
      "Loading dataset:  54%|█████▍    | 13/24 [00:04<00:03,  2.85it/s]"
     ]
    },
    {
     "name": "stdout",
     "output_type": "stream",
     "text": [
      "seg\n",
      "metatensor([0., 1., 2., 4.])\n",
      "metatensor([0., 1.])\n"
     ]
    },
    {
     "name": "stderr",
     "output_type": "stream",
     "text": [
      "Loading dataset:  58%|█████▊    | 14/24 [00:04<00:03,  2.85it/s]"
     ]
    },
    {
     "name": "stdout",
     "output_type": "stream",
     "text": [
      "seg\n",
      "metatensor([0., 1., 2., 4.])\n",
      "metatensor([0., 1.])\n"
     ]
    },
    {
     "name": "stderr",
     "output_type": "stream",
     "text": [
      "Loading dataset:  62%|██████▎   | 15/24 [00:05<00:03,  2.86it/s]"
     ]
    },
    {
     "name": "stdout",
     "output_type": "stream",
     "text": [
      "seg\n",
      "metatensor([0., 1., 2., 4.])\n",
      "metatensor([0., 1.])\n"
     ]
    },
    {
     "name": "stderr",
     "output_type": "stream",
     "text": [
      "Loading dataset:  67%|██████▋   | 16/24 [00:05<00:02,  2.87it/s]"
     ]
    },
    {
     "name": "stdout",
     "output_type": "stream",
     "text": [
      "seg\n",
      "metatensor([0., 1., 2., 4.])\n",
      "metatensor([0., 1.])\n"
     ]
    },
    {
     "name": "stderr",
     "output_type": "stream",
     "text": [
      "Loading dataset:  71%|███████   | 17/24 [00:05<00:02,  2.88it/s]"
     ]
    },
    {
     "name": "stdout",
     "output_type": "stream",
     "text": [
      "seg\n",
      "metatensor([0., 1., 2., 4.])\n",
      "metatensor([0., 1.])\n"
     ]
    },
    {
     "name": "stderr",
     "output_type": "stream",
     "text": [
      "Loading dataset:  75%|███████▌  | 18/24 [00:06<00:02,  2.88it/s]"
     ]
    },
    {
     "name": "stdout",
     "output_type": "stream",
     "text": [
      "seg\n",
      "metatensor([0., 1., 2., 4.])\n",
      "metatensor([0., 1.])\n"
     ]
    },
    {
     "name": "stderr",
     "output_type": "stream",
     "text": [
      "Loading dataset:  79%|███████▉  | 19/24 [00:06<00:01,  2.89it/s]"
     ]
    },
    {
     "name": "stdout",
     "output_type": "stream",
     "text": [
      "seg\n",
      "metatensor([0., 1., 2., 4.])\n",
      "metatensor([0., 1.])\n"
     ]
    },
    {
     "name": "stderr",
     "output_type": "stream",
     "text": [
      "Loading dataset:  83%|████████▎ | 20/24 [00:06<00:01,  2.92it/s]"
     ]
    },
    {
     "name": "stdout",
     "output_type": "stream",
     "text": [
      "seg\n",
      "metatensor([0., 1., 2., 4.])\n",
      "metatensor([0., 1.])\n"
     ]
    },
    {
     "name": "stderr",
     "output_type": "stream",
     "text": [
      "Loading dataset:  88%|████████▊ | 21/24 [00:07<00:01,  2.92it/s]"
     ]
    },
    {
     "name": "stdout",
     "output_type": "stream",
     "text": [
      "seg\n",
      "metatensor([0., 1., 2., 4.])\n",
      "metatensor([0., 1.])\n"
     ]
    },
    {
     "name": "stderr",
     "output_type": "stream",
     "text": [
      "Loading dataset:  92%|█████████▏| 22/24 [00:07<00:00,  2.92it/s]"
     ]
    },
    {
     "name": "stdout",
     "output_type": "stream",
     "text": [
      "seg\n",
      "metatensor([0., 1., 2., 4.])\n",
      "metatensor([0., 1.])\n"
     ]
    },
    {
     "name": "stderr",
     "output_type": "stream",
     "text": [
      "Loading dataset:  96%|█████████▌| 23/24 [00:08<00:00,  2.92it/s]"
     ]
    },
    {
     "name": "stdout",
     "output_type": "stream",
     "text": [
      "seg\n",
      "metatensor([0., 1., 2., 4.])\n",
      "metatensor([0., 1.])\n"
     ]
    },
    {
     "name": "stderr",
     "output_type": "stream",
     "text": [
      "Loading dataset: 100%|██████████| 24/24 [00:08<00:00,  2.87it/s]\n",
      "Loading dataset:   0%|          | 0/6 [00:00<?, ?it/s]"
     ]
    },
    {
     "name": "stdout",
     "output_type": "stream",
     "text": [
      "seg\n",
      "metatensor([0., 1., 2., 4.])\n",
      "metatensor([0., 1.])\n"
     ]
    },
    {
     "name": "stderr",
     "output_type": "stream",
     "text": [
      "Loading dataset:  17%|█▋        | 1/6 [00:00<00:01,  2.94it/s]"
     ]
    },
    {
     "name": "stdout",
     "output_type": "stream",
     "text": [
      "seg\n",
      "metatensor([0., 1., 2., 4.])\n",
      "metatensor([0., 1.])\n"
     ]
    },
    {
     "name": "stderr",
     "output_type": "stream",
     "text": [
      "Loading dataset:  33%|███▎      | 2/6 [00:00<00:01,  2.93it/s]"
     ]
    },
    {
     "name": "stdout",
     "output_type": "stream",
     "text": [
      "seg\n",
      "metatensor([0., 1., 2., 4.])\n",
      "metatensor([0., 1.])\n"
     ]
    },
    {
     "name": "stderr",
     "output_type": "stream",
     "text": [
      "Loading dataset:  50%|█████     | 3/6 [00:01<00:01,  2.82it/s]"
     ]
    },
    {
     "name": "stdout",
     "output_type": "stream",
     "text": [
      "seg\n",
      "metatensor([0., 1., 2., 4.])\n",
      "metatensor([0., 1.])\n"
     ]
    },
    {
     "name": "stderr",
     "output_type": "stream",
     "text": [
      "Loading dataset:  67%|██████▋   | 4/6 [00:01<00:00,  2.62it/s]"
     ]
    },
    {
     "name": "stdout",
     "output_type": "stream",
     "text": [
      "seg\n",
      "metatensor([0., 1., 2., 4.])\n",
      "metatensor([0., 1.])\n"
     ]
    },
    {
     "name": "stderr",
     "output_type": "stream",
     "text": [
      "Loading dataset:  83%|████████▎ | 5/6 [00:01<00:00,  2.43it/s]"
     ]
    },
    {
     "name": "stdout",
     "output_type": "stream",
     "text": [
      "seg\n",
      "metatensor([0., 1., 2., 4.])\n",
      "metatensor([0., 1.])\n"
     ]
    },
    {
     "name": "stderr",
     "output_type": "stream",
     "text": [
      "Loading dataset: 100%|██████████| 6/6 [00:02<00:00,  2.49it/s]\n"
     ]
    },
    {
     "name": "stdout",
     "output_type": "stream",
     "text": [
      "torch.Size([4, 1, 128, 128, 128])\n",
      "torch.Size([4, 1, 128, 128, 128])\n",
      "torch.Size([4, 1, 128, 128, 128])\n",
      "torch.Size([4, 1, 128, 128, 128])\n",
      "torch.Size([4, 1, 128, 128, 128])\n",
      "torch.Size([4, 1, 128, 128, 128])\n"
     ]
    }
   ],
   "source": [
    "data_module.setup()\n",
    "for batch in data_module.train_dataloader():\n",
    "    print(batch['seg'].shape)  # Should output: [batch_size, 1, 128, 128, 128]\n",
    "    # vis_slice(batch, 0)"
   ]
  },
  {
   "cell_type": "markdown",
   "id": "2b37bdb3-7099-4d46-a94f-3c11ddf494d0",
   "metadata": {},
   "source": [
    "# Building function that creates a 2d dataset"
   ]
  },
  {
   "cell_type": "code",
   "execution_count": 3,
   "id": "477287e9-f879-4c64-9a31-dd743205d39b",
   "metadata": {},
   "outputs": [],
   "source": [
    "def vis_slice(batch, batch_number, key):\n",
    "    image = batch[key]\n",
    "    \n",
    "    # Select a slice to visualize (e.g., the middle slice)\n",
    "    slice_index = image.shape[2] // 2\n",
    "\n",
    "    # Create subplots\n",
    "    fig, axes = plt.subplots(1, 3, figsize=(15, 5))\n",
    "    \n",
    "    # FLAIR Image\n",
    "    axes[0].imshow(image[batch_number, 0, slice_index, :, :], cmap='gray')\n",
    "    axes[0].set_title('first dim')\n",
    "    axes[0].axis('off')\n",
    "\n",
    "        # FLAIR Image\n",
    "    axes[1].imshow(image[batch_number, 0, :, slice_index, :], cmap='gray')\n",
    "    axes[1].set_title('second dim')\n",
    "    axes[1].axis('off')\n",
    "\n",
    "        # FLAIR Image\n",
    "    axes[2].imshow(image[batch_number, 0, :, :, slice_index], cmap='gray')\n",
    "    axes[2].set_title('third dim')\n",
    "    axes[2].axis('off')\n",
    "\n",
    "\n",
    "\n",
    "    plt.show()"
   ]
  },
  {
   "cell_type": "code",
   "execution_count": 4,
   "id": "df45837d-cd2b-4c5e-b282-4ee4b0f15ee8",
   "metadata": {
    "scrolled": true
   },
   "outputs": [
    {
     "data": {
      "image/png": "[encoded data removed]",
      "text/plain": [
       "<Figure size 1500x500 with 3 Axes>"
      ]
     },
     "metadata": {},
     "output_type": "display_data"
    },
    {
     "data": {
      "image/png": "[encoded data removed]",
      "text/plain": [
       "<Figure size 1500x500 with 3 Axes>"
      ]
     },
     "metadata": {},
     "output_type": "display_data"
    },
    {
     "data": {
      "image/png": "[encoded data removed]",
      "text/plain": [
       "<Figure size 1500x500 with 3 Axes>"
      ]
     },
     "metadata": {},
     "output_type": "display_data"
    },
    {
     "data": {
      "image/png": "[encoded data removed]",
      "text/plain": [
       "<Figure size 1500x500 with 3 Axes>"
      ]
     },
     "metadata": {},
     "output_type": "display_data"
    }
   ],
   "source": [
    "import matplotlib.pyplot as plt\n",
    "batch_size = 4\n",
    "for batch_number in range(batch_size):\n",
    "    vis_slice(batch, batch_number, \"seg\")"
   ]
  },
  {
   "cell_type": "code",
   "execution_count": null,
   "id": "0f57b428-59f5-4a4f-85e5-a3847a5e0cd8",
   "metadata": {},
   "outputs": [],
   "source": [
    "vis_slice(batch, 0, \"seg\")"
   ]
  },
  {
   "cell_type": "code",
   "execution_count": null,
   "id": "1027340f-d3a8-462f-9102-2c430ed40388",
   "metadata": {},
   "outputs": [],
   "source": []
  }
 ],
 "metadata": {
  "kernelspec": {
   "display_name": "Python 3 (ipykernel)",
   "language": "python",
   "name": "python3"
  },
  "language_info": {
   "codemirror_mode": {
    "name": "ipython",
    "version": 3
   },
   "file_extension": ".py",
   "mimetype": "text/x-python",
   "name": "python",
   "nbconvert_exporter": "python",
   "pygments_lexer": "ipython3",
   "version": "3.10.16"
  }
 },
 "nbformat": 4,
 "nbformat_minor": 5
}
