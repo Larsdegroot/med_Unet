{
  "cells": [
    {
      "cell_type": "markdown",
      "metadata": {
        "id": "view-in-github",
        "colab_type": "text"
      },
      "source": [
        "<a href=\"https://colab.research.google.com/github/Larsdegroot/med_Unet/blob/lars_eval_fixing/run_experiment_colab.ipynb\" target=\"_parent\"><img src=\"https://colab.research.google.com/assets/colab-badge.svg\" alt=\"Open In Colab\"/></a>"
      ]
    },
    {
      "cell_type": "markdown",
      "id": "19c5d769-2bc8-40ed-b4e4-0827f9413e5c",
      "metadata": {
        "id": "19c5d769-2bc8-40ed-b4e4-0827f9413e5c"
      },
      "source": [
        "# Run UNet Training\n",
        "This notebook is meant to be used in google colab to train a UNet model on the WMH dataset for MRI brain image segmentation."
      ]
    },
    {
      "cell_type": "markdown",
      "id": "110c742f-af05-429b-a1e0-542abe5bf94c",
      "metadata": {
        "id": "110c742f-af05-429b-a1e0-542abe5bf94c"
      },
      "source": [
        "## Set up environment"
      ]
    },
    {
      "cell_type": "code",
      "execution_count": 1,
      "id": "6718726d-3e90-44b2-b62e-2607c57bc2dc",
      "metadata": {
        "colab": {
          "base_uri": "https://localhost:8080/",
          "height": 1000
        },
        "id": "6718726d-3e90-44b2-b62e-2607c57bc2dc",
        "outputId": "e4063598-2c9b-4d19-b954-8baa5b8c18b6",
        "collapsed": true
      },
      "outputs": [
        {
          "output_type": "stream",
          "name": "stdout",
          "text": [
            "Requirement already satisfied: torch in /usr/local/lib/python3.10/dist-packages (2.5.1+cu121)\n",
            "Requirement already satisfied: torchvision in /usr/local/lib/python3.10/dist-packages (0.20.1+cu121)\n",
            "Requirement already satisfied: torchaudio in /usr/local/lib/python3.10/dist-packages (2.5.1+cu121)\n",
            "Requirement already satisfied: filelock in /usr/local/lib/python3.10/dist-packages (from torch) (3.16.1)\n",
            "Requirement already satisfied: typing-extensions>=4.8.0 in /usr/local/lib/python3.10/dist-packages (from torch) (4.12.2)\n",
            "Requirement already satisfied: networkx in /usr/local/lib/python3.10/dist-packages (from torch) (3.4.2)\n",
            "Requirement already satisfied: jinja2 in /usr/local/lib/python3.10/dist-packages (from torch) (3.1.5)\n",
            "Requirement already satisfied: fsspec in /usr/local/lib/python3.10/dist-packages (from torch) (2024.10.0)\n",
            "Requirement already satisfied: sympy==1.13.1 in /usr/local/lib/python3.10/dist-packages (from torch) (1.13.1)\n",
            "Requirement already satisfied: mpmath<1.4,>=1.1.0 in /usr/local/lib/python3.10/dist-packages (from sympy==1.13.1->torch) (1.3.0)\n",
            "Requirement already satisfied: numpy in /usr/local/lib/python3.10/dist-packages (from torchvision) (1.26.4)\n",
            "Requirement already satisfied: pillow!=8.3.*,>=5.3.0 in /usr/local/lib/python3.10/dist-packages (from torchvision) (11.1.0)\n",
            "Requirement already satisfied: MarkupSafe>=2.0 in /usr/local/lib/python3.10/dist-packages (from jinja2->torch) (3.0.2)\n",
            "Collecting lightning[pytorch-extra]\n",
            "  Downloading lightning-2.5.0.post0-py3-none-any.whl.metadata (40 kB)\n",
            "\u001b[2K     \u001b[90m━━━━━━━━━━━━━━━━━━━━━━━━━━━━━━━━━━━━━━━━\u001b[0m \u001b[32m40.4/40.4 kB\u001b[0m \u001b[31m3.2 MB/s\u001b[0m eta \u001b[36m0:00:00\u001b[0m\n",
            "\u001b[?25hRequirement already satisfied: PyYAML<8.0,>=5.4 in /usr/local/lib/python3.10/dist-packages (from lightning[pytorch-extra]) (6.0.2)\n",
            "Requirement already satisfied: fsspec<2026.0,>=2022.5.0 in /usr/local/lib/python3.10/dist-packages (from fsspec[http]<2026.0,>=2022.5.0->lightning[pytorch-extra]) (2024.10.0)\n",
            "Collecting lightning-utilities<2.0,>=0.10.0 (from lightning[pytorch-extra])\n",
            "  Downloading lightning_utilities-0.11.9-py3-none-any.whl.metadata (5.2 kB)\n",
            "Requirement already satisfied: packaging<25.0,>=20.0 in /usr/local/lib/python3.10/dist-packages (from lightning[pytorch-extra]) (24.2)\n",
            "Requirement already satisfied: torch<4.0,>=2.1.0 in /usr/local/lib/python3.10/dist-packages (from lightning[pytorch-extra]) (2.5.1+cu121)\n",
            "Collecting torchmetrics<3.0,>=0.7.0 (from lightning[pytorch-extra])\n",
            "  Downloading torchmetrics-1.6.1-py3-none-any.whl.metadata (21 kB)\n",
            "Requirement already satisfied: tqdm<6.0,>=4.57.0 in /usr/local/lib/python3.10/dist-packages (from lightning[pytorch-extra]) (4.67.1)\n",
            "Requirement already satisfied: typing-extensions<6.0,>=4.4.0 in /usr/local/lib/python3.10/dist-packages (from lightning[pytorch-extra]) (4.12.2)\n",
            "Collecting pytorch-lightning (from lightning[pytorch-extra])\n",
            "  Downloading pytorch_lightning-2.5.0.post0-py3-none-any.whl.metadata (21 kB)\n",
            "Collecting hydra-core<2.0,>=1.2.0 (from lightning[pytorch-extra])\n",
            "  Downloading hydra_core-1.3.2-py3-none-any.whl.metadata (5.5 kB)\n",
            "Collecting jsonargparse<5.0,>=4.27.7 (from jsonargparse[signatures]<5.0,>=4.27.7; extra == \"pytorch-extra\"->lightning[pytorch-extra])\n",
            "  Downloading jsonargparse-4.35.0-py3-none-any.whl.metadata (12 kB)\n",
            "Requirement already satisfied: matplotlib<4.0,>3.1 in /usr/local/lib/python3.10/dist-packages (from lightning[pytorch-extra]) (3.10.0)\n",
            "Collecting omegaconf<3.0,>=2.2.3 (from lightning[pytorch-extra])\n",
            "  Downloading omegaconf-2.3.0-py3-none-any.whl.metadata (3.9 kB)\n",
            "Requirement already satisfied: rich<14.0,>=12.3.0 in /usr/local/lib/python3.10/dist-packages (from lightning[pytorch-extra]) (13.9.4)\n",
            "Collecting tensorboardX<3.0,>=2.2 (from lightning[pytorch-extra])\n",
            "  Downloading tensorboardX-2.6.2.2-py2.py3-none-any.whl.metadata (5.8 kB)\n",
            "Collecting bitsandbytes<1.0,>=0.44.0 (from lightning[pytorch-extra])\n",
            "  Downloading bitsandbytes-0.45.0-py3-none-manylinux_2_24_x86_64.whl.metadata (2.9 kB)\n",
            "Requirement already satisfied: numpy in /usr/local/lib/python3.10/dist-packages (from bitsandbytes<1.0,>=0.44.0->lightning[pytorch-extra]) (1.26.4)\n",
            "Requirement already satisfied: aiohttp!=4.0.0a0,!=4.0.0a1 in /usr/local/lib/python3.10/dist-packages (from fsspec[http]<2026.0,>=2022.5.0->lightning[pytorch-extra]) (3.11.11)\n",
            "Collecting antlr4-python3-runtime==4.9.* (from hydra-core<2.0,>=1.2.0->lightning[pytorch-extra])\n",
            "  Downloading antlr4-python3-runtime-4.9.3.tar.gz (117 kB)\n",
            "\u001b[2K     \u001b[90m━━━━━━━━━━━━━━━━━━━━━━━━━━━━━━━━━━━━━━━━\u001b[0m \u001b[32m117.0/117.0 kB\u001b[0m \u001b[31m10.1 MB/s\u001b[0m eta \u001b[36m0:00:00\u001b[0m\n",
            "\u001b[?25h  Preparing metadata (setup.py) ... \u001b[?25l\u001b[?25hdone\n",
            "Requirement already satisfied: docstring-parser>=0.15 in /usr/local/lib/python3.10/dist-packages (from jsonargparse[signatures]<5.0,>=4.27.7; extra == \"pytorch-extra\"->lightning[pytorch-extra]) (0.16)\n",
            "Collecting typeshed-client>=2.1.0 (from jsonargparse[signatures]<5.0,>=4.27.7; extra == \"pytorch-extra\"->lightning[pytorch-extra])\n",
            "  Downloading typeshed_client-2.7.0-py3-none-any.whl.metadata (7.9 kB)\n",
            "Requirement already satisfied: setuptools in /usr/local/lib/python3.10/dist-packages (from lightning-utilities<2.0,>=0.10.0->lightning[pytorch-extra]) (75.1.0)\n",
            "Requirement already satisfied: contourpy>=1.0.1 in /usr/local/lib/python3.10/dist-packages (from matplotlib<4.0,>3.1->lightning[pytorch-extra]) (1.3.1)\n",
            "Requirement already satisfied: cycler>=0.10 in /usr/local/lib/python3.10/dist-packages (from matplotlib<4.0,>3.1->lightning[pytorch-extra]) (0.12.1)\n",
            "Requirement already satisfied: fonttools>=4.22.0 in /usr/local/lib/python3.10/dist-packages (from matplotlib<4.0,>3.1->lightning[pytorch-extra]) (4.55.3)\n",
            "Requirement already satisfied: kiwisolver>=1.3.1 in /usr/local/lib/python3.10/dist-packages (from matplotlib<4.0,>3.1->lightning[pytorch-extra]) (1.4.8)\n",
            "Requirement already satisfied: pillow>=8 in /usr/local/lib/python3.10/dist-packages (from matplotlib<4.0,>3.1->lightning[pytorch-extra]) (11.1.0)\n",
            "Requirement already satisfied: pyparsing>=2.3.1 in /usr/local/lib/python3.10/dist-packages (from matplotlib<4.0,>3.1->lightning[pytorch-extra]) (3.2.1)\n",
            "Requirement already satisfied: python-dateutil>=2.7 in /usr/local/lib/python3.10/dist-packages (from matplotlib<4.0,>3.1->lightning[pytorch-extra]) (2.8.2)\n",
            "Requirement already satisfied: markdown-it-py>=2.2.0 in /usr/local/lib/python3.10/dist-packages (from rich<14.0,>=12.3.0->lightning[pytorch-extra]) (3.0.0)\n",
            "Requirement already satisfied: pygments<3.0.0,>=2.13.0 in /usr/local/lib/python3.10/dist-packages (from rich<14.0,>=12.3.0->lightning[pytorch-extra]) (2.18.0)\n",
            "Requirement already satisfied: protobuf>=3.20 in /usr/local/lib/python3.10/dist-packages (from tensorboardX<3.0,>=2.2->lightning[pytorch-extra]) (4.25.5)\n",
            "Requirement already satisfied: filelock in /usr/local/lib/python3.10/dist-packages (from torch<4.0,>=2.1.0->lightning[pytorch-extra]) (3.16.1)\n",
            "Requirement already satisfied: networkx in /usr/local/lib/python3.10/dist-packages (from torch<4.0,>=2.1.0->lightning[pytorch-extra]) (3.4.2)\n",
            "Requirement already satisfied: jinja2 in /usr/local/lib/python3.10/dist-packages (from torch<4.0,>=2.1.0->lightning[pytorch-extra]) (3.1.5)\n",
            "Requirement already satisfied: sympy==1.13.1 in /usr/local/lib/python3.10/dist-packages (from torch<4.0,>=2.1.0->lightning[pytorch-extra]) (1.13.1)\n",
            "Requirement already satisfied: mpmath<1.4,>=1.1.0 in /usr/local/lib/python3.10/dist-packages (from sympy==1.13.1->torch<4.0,>=2.1.0->lightning[pytorch-extra]) (1.3.0)\n",
            "Requirement already satisfied: aiohappyeyeballs>=2.3.0 in /usr/local/lib/python3.10/dist-packages (from aiohttp!=4.0.0a0,!=4.0.0a1->fsspec[http]<2026.0,>=2022.5.0->lightning[pytorch-extra]) (2.4.4)\n",
            "Requirement already satisfied: aiosignal>=1.1.2 in /usr/local/lib/python3.10/dist-packages (from aiohttp!=4.0.0a0,!=4.0.0a1->fsspec[http]<2026.0,>=2022.5.0->lightning[pytorch-extra]) (1.3.2)\n",
            "Requirement already satisfied: async-timeout<6.0,>=4.0 in /usr/local/lib/python3.10/dist-packages (from aiohttp!=4.0.0a0,!=4.0.0a1->fsspec[http]<2026.0,>=2022.5.0->lightning[pytorch-extra]) (4.0.3)\n",
            "Requirement already satisfied: attrs>=17.3.0 in /usr/local/lib/python3.10/dist-packages (from aiohttp!=4.0.0a0,!=4.0.0a1->fsspec[http]<2026.0,>=2022.5.0->lightning[pytorch-extra]) (24.3.0)\n",
            "Requirement already satisfied: frozenlist>=1.1.1 in /usr/local/lib/python3.10/dist-packages (from aiohttp!=4.0.0a0,!=4.0.0a1->fsspec[http]<2026.0,>=2022.5.0->lightning[pytorch-extra]) (1.5.0)\n",
            "Requirement already satisfied: multidict<7.0,>=4.5 in /usr/local/lib/python3.10/dist-packages (from aiohttp!=4.0.0a0,!=4.0.0a1->fsspec[http]<2026.0,>=2022.5.0->lightning[pytorch-extra]) (6.1.0)\n",
            "Requirement already satisfied: propcache>=0.2.0 in /usr/local/lib/python3.10/dist-packages (from aiohttp!=4.0.0a0,!=4.0.0a1->fsspec[http]<2026.0,>=2022.5.0->lightning[pytorch-extra]) (0.2.1)\n",
            "Requirement already satisfied: yarl<2.0,>=1.17.0 in /usr/local/lib/python3.10/dist-packages (from aiohttp!=4.0.0a0,!=4.0.0a1->fsspec[http]<2026.0,>=2022.5.0->lightning[pytorch-extra]) (1.18.3)\n",
            "Requirement already satisfied: mdurl~=0.1 in /usr/local/lib/python3.10/dist-packages (from markdown-it-py>=2.2.0->rich<14.0,>=12.3.0->lightning[pytorch-extra]) (0.1.2)\n",
            "Requirement already satisfied: six>=1.5 in /usr/local/lib/python3.10/dist-packages (from python-dateutil>=2.7->matplotlib<4.0,>3.1->lightning[pytorch-extra]) (1.17.0)\n",
            "Requirement already satisfied: importlib-resources>=1.4.0 in /usr/local/lib/python3.10/dist-packages (from typeshed-client>=2.1.0->jsonargparse[signatures]<5.0,>=4.27.7; extra == \"pytorch-extra\"->lightning[pytorch-extra]) (6.5.2)\n",
            "Requirement already satisfied: MarkupSafe>=2.0 in /usr/local/lib/python3.10/dist-packages (from jinja2->torch<4.0,>=2.1.0->lightning[pytorch-extra]) (3.0.2)\n",
            "Requirement already satisfied: idna>=2.0 in /usr/local/lib/python3.10/dist-packages (from yarl<2.0,>=1.17.0->aiohttp!=4.0.0a0,!=4.0.0a1->fsspec[http]<2026.0,>=2022.5.0->lightning[pytorch-extra]) (3.10)\n",
            "Downloading bitsandbytes-0.45.0-py3-none-manylinux_2_24_x86_64.whl (69.1 MB)\n",
            "\u001b[2K   \u001b[90m━━━━━━━━━━━━━━━━━━━━━━━━━━━━━━━━━━━━━━━━\u001b[0m \u001b[32m69.1/69.1 MB\u001b[0m \u001b[31m10.8 MB/s\u001b[0m eta \u001b[36m0:00:00\u001b[0m\n",
            "\u001b[?25hDownloading hydra_core-1.3.2-py3-none-any.whl (154 kB)\n",
            "\u001b[2K   \u001b[90m━━━━━━━━━━━━━━━━━━━━━━━━━━━━━━━━━━━━━━━━\u001b[0m \u001b[32m154.5/154.5 kB\u001b[0m \u001b[31m8.1 MB/s\u001b[0m eta \u001b[36m0:00:00\u001b[0m\n",
            "\u001b[?25hDownloading jsonargparse-4.35.0-py3-none-any.whl (211 kB)\n",
            "\u001b[2K   \u001b[90m━━━━━━━━━━━━━━━━━━━━━━━━━━━━━━━━━━━━━━━━\u001b[0m \u001b[32m211.0/211.0 kB\u001b[0m \u001b[31m15.7 MB/s\u001b[0m eta \u001b[36m0:00:00\u001b[0m\n",
            "\u001b[?25hDownloading lightning_utilities-0.11.9-py3-none-any.whl (28 kB)\n",
            "Downloading omegaconf-2.3.0-py3-none-any.whl (79 kB)\n",
            "\u001b[2K   \u001b[90m━━━━━━━━━━━━━━━━━━━━━━━━━━━━━━━━━━━━━━━━\u001b[0m \u001b[32m79.5/79.5 kB\u001b[0m \u001b[31m6.4 MB/s\u001b[0m eta \u001b[36m0:00:00\u001b[0m\n",
            "\u001b[?25hDownloading tensorboardX-2.6.2.2-py2.py3-none-any.whl (101 kB)\n",
            "\u001b[2K   \u001b[90m━━━━━━━━━━━━━━━━━━━━━━━━━━━━━━━━━━━━━━━━\u001b[0m \u001b[32m101.7/101.7 kB\u001b[0m \u001b[31m8.5 MB/s\u001b[0m eta \u001b[36m0:00:00\u001b[0m\n",
            "\u001b[?25hDownloading torchmetrics-1.6.1-py3-none-any.whl (927 kB)\n",
            "\u001b[2K   \u001b[90m━━━━━━━━━━━━━━━━━━━━━━━━━━━━━━━━━━━━━━━━\u001b[0m \u001b[32m927.3/927.3 kB\u001b[0m \u001b[31m41.7 MB/s\u001b[0m eta \u001b[36m0:00:00\u001b[0m\n",
            "\u001b[?25hDownloading lightning-2.5.0.post0-py3-none-any.whl (815 kB)\n",
            "\u001b[2K   \u001b[90m━━━━━━━━━━━━━━━━━━━━━━━━━━━━━━━━━━━━━━━━\u001b[0m \u001b[32m815.2/815.2 kB\u001b[0m \u001b[31m33.0 MB/s\u001b[0m eta \u001b[36m0:00:00\u001b[0m\n",
            "\u001b[?25hDownloading pytorch_lightning-2.5.0.post0-py3-none-any.whl (819 kB)\n",
            "\u001b[2K   \u001b[90m━━━━━━━━━━━━━━━━━━━━━━━━━━━━━━━━━━━━━━━━\u001b[0m \u001b[32m819.3/819.3 kB\u001b[0m \u001b[31m39.8 MB/s\u001b[0m eta \u001b[36m0:00:00\u001b[0m\n",
            "\u001b[?25hDownloading typeshed_client-2.7.0-py3-none-any.whl (624 kB)\n",
            "\u001b[2K   \u001b[90m━━━━━━━━━━━━━━━━━━━━━━━━━━━━━━━━━━━━━━━━\u001b[0m \u001b[32m624.4/624.4 kB\u001b[0m \u001b[31m33.4 MB/s\u001b[0m eta \u001b[36m0:00:00\u001b[0m\n",
            "\u001b[?25hBuilding wheels for collected packages: antlr4-python3-runtime\n",
            "  Building wheel for antlr4-python3-runtime (setup.py) ... \u001b[?25l\u001b[?25hdone\n",
            "  Created wheel for antlr4-python3-runtime: filename=antlr4_python3_runtime-4.9.3-py3-none-any.whl size=144555 sha256=3a4caee38f6727acdd2b6b40850ba2da9f421e9355d236b5ce2453718b64d08f\n",
            "  Stored in directory: /root/.cache/pip/wheels/12/93/dd/1f6a127edc45659556564c5730f6d4e300888f4bca2d4c5a88\n",
            "Successfully built antlr4-python3-runtime\n",
            "Installing collected packages: antlr4-python3-runtime, typeshed-client, tensorboardX, omegaconf, lightning-utilities, jsonargparse, hydra-core, torchmetrics, bitsandbytes, pytorch-lightning, lightning\n",
            "Successfully installed antlr4-python3-runtime-4.9.3 bitsandbytes-0.45.0 hydra-core-1.3.2 jsonargparse-4.35.0 lightning-2.5.0.post0 lightning-utilities-0.11.9 omegaconf-2.3.0 pytorch-lightning-2.5.0.post0 tensorboardX-2.6.2.2 torchmetrics-1.6.1 typeshed-client-2.7.0\n"
          ]
        },
        {
          "output_type": "display_data",
          "data": {
            "application/vnd.colab-display-data+json": {
              "pip_warning": {
                "packages": [
                  "pydevd_plugins"
                ]
              },
              "id": "8d6a41cf3789460db62d1d96cef94a08"
            }
          },
          "metadata": {}
        },
        {
          "output_type": "stream",
          "name": "stdout",
          "text": [
            "Collecting monai\n",
            "  Downloading monai-1.4.0-py3-none-any.whl.metadata (11 kB)\n",
            "Requirement already satisfied: numpy<2.0,>=1.24 in /usr/local/lib/python3.10/dist-packages (from monai) (1.26.4)\n",
            "Requirement already satisfied: torch>=1.9 in /usr/local/lib/python3.10/dist-packages (from monai) (2.5.1+cu121)\n",
            "Requirement already satisfied: filelock in /usr/local/lib/python3.10/dist-packages (from torch>=1.9->monai) (3.16.1)\n",
            "Requirement already satisfied: typing-extensions>=4.8.0 in /usr/local/lib/python3.10/dist-packages (from torch>=1.9->monai) (4.12.2)\n",
            "Requirement already satisfied: networkx in /usr/local/lib/python3.10/dist-packages (from torch>=1.9->monai) (3.4.2)\n",
            "Requirement already satisfied: jinja2 in /usr/local/lib/python3.10/dist-packages (from torch>=1.9->monai) (3.1.5)\n",
            "Requirement already satisfied: fsspec in /usr/local/lib/python3.10/dist-packages (from torch>=1.9->monai) (2024.10.0)\n",
            "Requirement already satisfied: sympy==1.13.1 in /usr/local/lib/python3.10/dist-packages (from torch>=1.9->monai) (1.13.1)\n",
            "Requirement already satisfied: mpmath<1.4,>=1.1.0 in /usr/local/lib/python3.10/dist-packages (from sympy==1.13.1->torch>=1.9->monai) (1.3.0)\n",
            "Requirement already satisfied: MarkupSafe>=2.0 in /usr/local/lib/python3.10/dist-packages (from jinja2->torch>=1.9->monai) (3.0.2)\n",
            "Downloading monai-1.4.0-py3-none-any.whl (1.5 MB)\n",
            "\u001b[2K   \u001b[90m━━━━━━━━━━━━━━━━━━━━━━━━━━━━━━━━━━━━━━━━\u001b[0m \u001b[32m1.5/1.5 MB\u001b[0m \u001b[31m35.5 MB/s\u001b[0m eta \u001b[36m0:00:00\u001b[0m\n",
            "\u001b[?25hInstalling collected packages: monai\n",
            "Successfully installed monai-1.4.0\n",
            "Collecting SimpleITK\n",
            "  Downloading SimpleITK-2.4.0-cp310-cp310-manylinux_2_17_x86_64.manylinux2014_x86_64.whl.metadata (7.9 kB)\n",
            "Downloading SimpleITK-2.4.0-cp310-cp310-manylinux_2_17_x86_64.manylinux2014_x86_64.whl (52.4 MB)\n",
            "\u001b[2K   \u001b[90m━━━━━━━━━━━━━━━━━━━━━━━━━━━━━━━━━━━━━━━━\u001b[0m \u001b[32m52.4/52.4 MB\u001b[0m \u001b[31m9.7 MB/s\u001b[0m eta \u001b[36m0:00:00\u001b[0m\n",
            "\u001b[?25hInstalling collected packages: SimpleITK\n",
            "Successfully installed SimpleITK-2.4.0\n"
          ]
        }
      ],
      "source": [
        "# don't restart session it's fine colab is a liar\n",
        "!pip3 install torch torchvision torchaudio\n",
        "!pip3 install \"lightning[pytorch-extra]\"\n",
        "!pip3 install monai\n",
        "!pip3 install SimpleITK"
      ]
    },
    {
      "cell_type": "code",
      "source": [
        "#### To get a specific branch add: git clone -b <branch_name> <\"url to github\">\n",
        "! git clone -b lars_eval_fixing \"https://github.com/Larsdegroot/med_Unet\""
      ],
      "metadata": {
        "colab": {
          "base_uri": "https://localhost:8080/"
        },
        "id": "qjHr3DOmHavn",
        "outputId": "ed77f493-fe25-41fc-de7f-9e6b29481db4"
      },
      "id": "qjHr3DOmHavn",
      "execution_count": 6,
      "outputs": [
        {
          "output_type": "stream",
          "name": "stdout",
          "text": [
            "fatal: destination path 'med_Unet' already exists and is not an empty directory.\n"
          ]
        }
      ]
    },
    {
      "cell_type": "code",
      "source": [
        "# Get the latest version (usefull during development)\n",
        "! git -C med_Unet/ pull origin lars_eval_fixing"
      ],
      "metadata": {
        "id": "YMz3LtVYDhoL",
        "outputId": "59c23005-854e-4220-b5a2-12de02d2ede2",
        "colab": {
          "base_uri": "https://localhost:8080/"
        }
      },
      "id": "YMz3LtVYDhoL",
      "execution_count": 29,
      "outputs": [
        {
          "output_type": "stream",
          "name": "stdout",
          "text": [
            "remote: Enumerating objects: 5, done.\u001b[K\n",
            "remote: Counting objects:  20% (1/5)\u001b[K\rremote: Counting objects:  40% (2/5)\u001b[K\rremote: Counting objects:  60% (3/5)\u001b[K\rremote: Counting objects:  80% (4/5)\u001b[K\rremote: Counting objects: 100% (5/5)\u001b[K\rremote: Counting objects: 100% (5/5), done.\u001b[K\n",
            "remote: Compressing objects: 100% (1/1)\u001b[K\rremote: Compressing objects: 100% (1/1), done.\u001b[K\n",
            "remote: Total 3 (delta 2), reused 3 (delta 2), pack-reused 0 (from 0)\u001b[K\n",
            "Unpacking objects:  33% (1/3)\rUnpacking objects:  66% (2/3)\rUnpacking objects: 100% (3/3)\rUnpacking objects: 100% (3/3), 458 bytes | 458.00 KiB/s, done.\n",
            "From https://github.com/Larsdegroot/med_Unet\n",
            " * branch            lars_eval_fixing -> FETCH_HEAD\n",
            "   af76829..3002c45  lars_eval_fixing -> origin/lars_eval_fixing\n",
            "Updating af76829..3002c45\n",
            "Fast-forward\n",
            " model.py | 32 \u001b[32m++++++++++++++++++\u001b[m\u001b[31m--------------\u001b[m\n",
            " 1 file changed, 18 insertions(+), 14 deletions(-)\n"
          ]
        }
      ]
    },
    {
      "cell_type": "code",
      "source": [
        "import zipfile\n",
        "from pathlib import Path\n",
        "\n",
        "# Define the target directory\n",
        "target_dir = Path(\"med_Unet/data\")\n",
        "\n",
        "# Create the directory if it doesn't exist\n",
        "target_dir.mkdir(parents=True, exist_ok=True)\n",
        "\n",
        "# Extract the ZIP files\n",
        "for dataset in [\"WMH\", \"BraTS\"]:\n",
        "  try:\n",
        "    with zipfile.ZipFile(f\"med_Unet/data/{dataset}.zip\", 'r') as zip_ref:\n",
        "        zip_ref.extractall(target_dir)\n",
        "    print(f\"Extracted the {dataset} dataset.\")\n",
        "  except FileNotFoundError: print(f\"No zipfile found for the {dataset} dataset in {target_dir}\")\n",
        "  except zipfile.BadZipFile: print(f\"Zipfile for {dataset} not complete, wait for it to upload\")\n"
      ],
      "metadata": {
        "id": "65D3sMMkHiRt",
        "outputId": "6d7a0f84-ee90-44cc-a3a2-87f7c3df06d7",
        "colab": {
          "base_uri": "https://localhost:8080/"
        }
      },
      "id": "65D3sMMkHiRt",
      "execution_count": 4,
      "outputs": [
        {
          "output_type": "stream",
          "name": "stdout",
          "text": [
            "Extracted the WMH dataset.\n",
            "No zipfile found for the BraTS dataset in med_Unet/data\n"
          ]
        }
      ]
    },
    {
      "cell_type": "markdown",
      "id": "6a96c686-0d1e-46d1-a87b-6172b3e43b32",
      "metadata": {
        "id": "6a96c686-0d1e-46d1-a87b-6172b3e43b32"
      },
      "source": [
        "## Run training"
      ]
    },
    {
      "cell_type": "code",
      "execution_count": 30,
      "id": "70053808-1718-4eb2-a77f-267ff9e1074d",
      "metadata": {
        "colab": {
          "base_uri": "https://localhost:8080/"
        },
        "id": "70053808-1718-4eb2-a77f-267ff9e1074d",
        "outputId": "3c332737-aa13-4164-d729-3650b85920d8"
      },
      "outputs": [
        {
          "output_type": "stream",
          "name": "stdout",
          "text": [
            "2025-01-12 18:22:33.425978: E external/local_xla/xla/stream_executor/cuda/cuda_fft.cc:485] Unable to register cuFFT factory: Attempting to register factory for plugin cuFFT when one has already been registered\n",
            "2025-01-12 18:22:33.446058: E external/local_xla/xla/stream_executor/cuda/cuda_dnn.cc:8454] Unable to register cuDNN factory: Attempting to register factory for plugin cuDNN when one has already been registered\n",
            "2025-01-12 18:22:33.452668: E external/local_xla/xla/stream_executor/cuda/cuda_blas.cc:1452] Unable to register cuBLAS factory: Attempting to register factory for plugin cuBLAS when one has already been registered\n",
            "2025-01-12 18:22:33.467602: I tensorflow/core/platform/cpu_feature_guard.cc:210] This TensorFlow binary is optimized to use available CPU instructions in performance-critical operations.\n",
            "To enable the following instructions: AVX2 AVX512F FMA, in other operations, rebuild TensorFlow with the appropriate compiler flags.\n",
            "2025-01-12 18:22:34.578106: W tensorflow/compiler/tf2tensorrt/utils/py_utils.cc:38] TF-TRT Warning: Could not find TensorRT\n",
            "/usr/local/lib/python3.10/dist-packages/lightning/fabric/utilities/seed.py:42: No seed found, seed set to 0\n",
            "Seed set to 0\n",
            "GPU available: True (cuda), used: True\n",
            "TPU available: False, using: 0 TPU cores\n",
            "HPU available: False, using: 0 HPUs\n",
            "Loading dataset: 100% 144/144 [01:19<00:00,  1.82it/s]\n",
            "Loading dataset: 100% 18/18 [00:10<00:00,  1.75it/s]\n",
            "Loading dataset: 100% 18/18 [00:09<00:00,  1.92it/s]\n",
            "LOCAL_RANK: 0 - CUDA_VISIBLE_DEVICES: [0]\n",
            "\n",
            "  | Name               | Type             | Params | Mode \n",
            "----------------------------------------------------------------\n",
            "0 | model              | UNet             | 332 K  | train\n",
            "1 | validation_metrics | MetricCollection | 0      | train\n",
            "----------------------------------------------------------------\n",
            "332 K     Trainable params\n",
            "0         Non-trainable params\n",
            "332 K     Total params\n",
            "1.330     Total estimated model params size (MB)\n",
            "86        Modules in train mode\n",
            "0         Modules in eval mode\n",
            "Sanity Checking DataLoader 0:   0% 0/2 [00:00<?, ?it/s]BEFORE CONVERSION\n",
            "y_pred shape: torch.Size([1, 1, 128, 128, 128])\n",
            "y_pred: tensor([[[[[-0.0608, -0.0574, -0.0592,  ..., -0.0586, -0.0599, -0.0656],\n",
            "           [-0.0710, -0.0609, -0.0615,  ..., -0.0637, -0.0606, -0.0652],\n",
            "           [-0.0707, -0.0626, -0.0580,  ..., -0.0590, -0.0564, -0.0656],\n",
            "           ...,\n",
            "           [-0.0713, -0.0637, -0.0626,  ..., -0.0637, -0.0605, -0.0648],\n",
            "           [-0.0756, -0.0699, -0.0680,  ..., -0.0686, -0.0638, -0.0653],\n",
            "           [-0.0769, -0.0728, -0.0728,  ..., -0.0748, -0.0695, -0.0650]],\n",
            "\n",
            "          [[-0.0613, -0.0640, -0.0639,  ..., -0.0641, -0.0602, -0.0706],\n",
            "           [-0.0644, -0.0587, -0.0521,  ..., -0.0530, -0.0474, -0.0572],\n",
            "           [-0.0665, -0.0647, -0.0544,  ..., -0.0533, -0.0448, -0.0619],\n",
            "           ...,\n",
            "           [-0.0676, -0.0644, -0.0576,  ..., -0.0578, -0.0491, -0.0622],\n",
            "           [-0.0704, -0.0682, -0.0644,  ..., -0.0646, -0.0586, -0.0655],\n",
            "           [-0.0744, -0.0662, -0.0630,  ..., -0.0654, -0.0584, -0.0604]],\n",
            "\n",
            "          [[-0.0590, -0.0614, -0.0587,  ..., -0.0605, -0.0573, -0.0668],\n",
            "           [-0.0654, -0.0590, -0.0524,  ..., -0.0522, -0.0500, -0.0560],\n",
            "           [-0.0662, -0.0606, -0.0532,  ..., -0.0534, -0.0479, -0.0608],\n",
            "           ...,\n",
            "           [-0.0671, -0.0620, -0.0561,  ..., -0.0562, -0.0496, -0.0609],\n",
            "           [-0.0689, -0.0667, -0.0624,  ..., -0.0617, -0.0554, -0.0645],\n",
            "           [-0.0743, -0.0666, -0.0655,  ..., -0.0650, -0.0596, -0.0607]],\n",
            "\n",
            "          ...,\n",
            "\n",
            "          [[-0.0595, -0.0622, -0.0629,  ..., -0.0620, -0.0589, -0.0688],\n",
            "           [-0.0693, -0.0612, -0.0600,  ..., -0.0595, -0.0528, -0.0593],\n",
            "           [-0.0686, -0.0620, -0.0573,  ..., -0.0580, -0.0506, -0.0632],\n",
            "           ...,\n",
            "           [-0.0676, -0.0629, -0.0591,  ..., -0.0583, -0.0520, -0.0633],\n",
            "           [-0.0685, -0.0678, -0.0638,  ..., -0.0640, -0.0573, -0.0654],\n",
            "           [-0.0733, -0.0666, -0.0661,  ..., -0.0656, -0.0607, -0.0603]],\n",
            "\n",
            "          [[-0.0574, -0.0628, -0.0573,  ..., -0.0574, -0.0553, -0.0676],\n",
            "           [-0.0667, -0.0623, -0.0555,  ..., -0.0550, -0.0538, -0.0588],\n",
            "           [-0.0647, -0.0615, -0.0552,  ..., -0.0555, -0.0530, -0.0643],\n",
            "           ...,\n",
            "           [-0.0644, -0.0622, -0.0555,  ..., -0.0554, -0.0537, -0.0645],\n",
            "           [-0.0652, -0.0660, -0.0613,  ..., -0.0619, -0.0580, -0.0653],\n",
            "           [-0.0715, -0.0644, -0.0640,  ..., -0.0624, -0.0599, -0.0609]],\n",
            "\n",
            "          [[-0.0597, -0.0652, -0.0626,  ..., -0.0640, -0.0627, -0.0693],\n",
            "           [-0.0678, -0.0651, -0.0620,  ..., -0.0610, -0.0595, -0.0642],\n",
            "           [-0.0637, -0.0650, -0.0615,  ..., -0.0610, -0.0610, -0.0670],\n",
            "           ...,\n",
            "           [-0.0638, -0.0653, -0.0621,  ..., -0.0598, -0.0597, -0.0666],\n",
            "           [-0.0627, -0.0671, -0.0646,  ..., -0.0645, -0.0634, -0.0694],\n",
            "           [-0.0691, -0.0693, -0.0671,  ..., -0.0658, -0.0653, -0.0672]]]]],\n",
            "       device='cuda:0')\n",
            "====================================================\n",
            "y_true shape: torch.Size([1, 1, 128, 128, 128])\n",
            "y_true unique values: tensor([0.0000, 0.1250, 0.2500, 0.3750, 0.5000, 0.6250, 0.7500, 0.8750, 1.0000],\n",
            "       device='cuda:0')\n",
            "AFTER CONVERSION\n",
            "y_pred shape: torch.Size([2097152])\n",
            "y_pred unique values: tensor([1], device='cuda:0', dtype=torch.int32)\n",
            "====================================================\n",
            "y_true shape: torch.Size([2097152])\n",
            "y_true unique values: tensor([0, 1], device='cuda:0')\n",
            "BEFORE CONVERSION\n",
            "y_pred shape: torch.Size([1, 1, 128, 128, 128])\n",
            "y_pred: tensor([[[[[-0.0608, -0.0574, -0.0592,  ..., -0.0586, -0.0598, -0.0656],\n",
            "           [-0.0710, -0.0608, -0.0615,  ..., -0.0636, -0.0605, -0.0652],\n",
            "           [-0.0707, -0.0625, -0.0580,  ..., -0.0588, -0.0564, -0.0656],\n",
            "           ...,\n",
            "           [-0.0713, -0.0635, -0.0626,  ..., -0.0636, -0.0604, -0.0648],\n",
            "           [-0.0756, -0.0696, -0.0681,  ..., -0.0678, -0.0634, -0.0652],\n",
            "           [-0.0770, -0.0728, -0.0729,  ..., -0.0747, -0.0691, -0.0648]],\n",
            "\n",
            "          [[-0.0613, -0.0640, -0.0639,  ..., -0.0641, -0.0602, -0.0705],\n",
            "           [-0.0644, -0.0585, -0.0519,  ..., -0.0528, -0.0472, -0.0571],\n",
            "           [-0.0666, -0.0647, -0.0545,  ..., -0.0533, -0.0447, -0.0618],\n",
            "           ...,\n",
            "           [-0.0676, -0.0643, -0.0578,  ..., -0.0580, -0.0490, -0.0626],\n",
            "           [-0.0703, -0.0682, -0.0644,  ..., -0.0638, -0.0576, -0.0655],\n",
            "           [-0.0744, -0.0661, -0.0630,  ..., -0.0654, -0.0582, -0.0602]],\n",
            "\n",
            "          [[-0.0589, -0.0614, -0.0585,  ..., -0.0604, -0.0573, -0.0668],\n",
            "           [-0.0654, -0.0588, -0.0523,  ..., -0.0521, -0.0498, -0.0560],\n",
            "           [-0.0661, -0.0606, -0.0532,  ..., -0.0535, -0.0478, -0.0608],\n",
            "           ...,\n",
            "           [-0.0670, -0.0621, -0.0563,  ..., -0.0552, -0.0494, -0.0609],\n",
            "           [-0.0688, -0.0669, -0.0625,  ..., -0.0609, -0.0545, -0.0644],\n",
            "           [-0.0743, -0.0665, -0.0655,  ..., -0.0649, -0.0595, -0.0605]],\n",
            "\n",
            "          ...,\n",
            "\n",
            "          [[-0.0595, -0.0622, -0.0628,  ..., -0.0620, -0.0589, -0.0687],\n",
            "           [-0.0694, -0.0612, -0.0600,  ..., -0.0596, -0.0529, -0.0593],\n",
            "           [-0.0686, -0.0620, -0.0573,  ..., -0.0580, -0.0507, -0.0631],\n",
            "           ...,\n",
            "           [-0.0676, -0.0630, -0.0589,  ..., -0.0575, -0.0513, -0.0631],\n",
            "           [-0.0684, -0.0679, -0.0639,  ..., -0.0636, -0.0568, -0.0653],\n",
            "           [-0.0733, -0.0666, -0.0660,  ..., -0.0654, -0.0606, -0.0602]],\n",
            "\n",
            "          [[-0.0574, -0.0627, -0.0573,  ..., -0.0574, -0.0553, -0.0676],\n",
            "           [-0.0668, -0.0623, -0.0554,  ..., -0.0550, -0.0538, -0.0588],\n",
            "           [-0.0647, -0.0616, -0.0554,  ..., -0.0556, -0.0531, -0.0643],\n",
            "           ...,\n",
            "           [-0.0644, -0.0623, -0.0553,  ..., -0.0545, -0.0533, -0.0644],\n",
            "           [-0.0652, -0.0663, -0.0616,  ..., -0.0613, -0.0575, -0.0653],\n",
            "           [-0.0714, -0.0643, -0.0638,  ..., -0.0623, -0.0599, -0.0608]],\n",
            "\n",
            "          [[-0.0597, -0.0652, -0.0626,  ..., -0.0640, -0.0627, -0.0693],\n",
            "           [-0.0677, -0.0650, -0.0620,  ..., -0.0610, -0.0595, -0.0642],\n",
            "           [-0.0636, -0.0650, -0.0614,  ..., -0.0609, -0.0610, -0.0671],\n",
            "           ...,\n",
            "           [-0.0637, -0.0654, -0.0620,  ..., -0.0600, -0.0598, -0.0667],\n",
            "           [-0.0626, -0.0673, -0.0646,  ..., -0.0641, -0.0631, -0.0693],\n",
            "           [-0.0691, -0.0693, -0.0671,  ..., -0.0655, -0.0650, -0.0672]]]]],\n",
            "       device='cuda:0')\n",
            "====================================================\n",
            "y_true shape: torch.Size([1, 1, 128, 128, 128])\n",
            "y_true unique values: tensor([0.0000, 0.0556, 0.0833, 0.1111, 0.1250, 0.1667, 0.2222, 0.2500, 0.2778,\n",
            "        0.3333, 0.3750, 0.3889, 0.4167, 0.4444, 0.5000, 0.5556, 0.5833, 0.6111,\n",
            "        0.6667, 0.7222, 0.7500, 0.7778, 0.8333, 0.8750, 0.8889, 1.0000],\n",
            "       device='cuda:0')\n",
            "AFTER CONVERSION\n",
            "y_pred shape: torch.Size([2097152])\n",
            "y_pred unique values: tensor([1], device='cuda:0', dtype=torch.int32)\n",
            "====================================================\n",
            "y_true shape: torch.Size([2097152])\n",
            "y_true unique values: tensor([0, 1], device='cuda:0')\n",
            "Epoch 0:  83% 120/144 [01:36<00:19,  1.25it/s, v_num=9, val_accuracy=0.000506, val_f1=0.00101, val_precision=0.000506, val_recall=1.000, train_loss=1.000]\n",
            "Detected KeyboardInterrupt, attempting graceful shutdown ...\n"
          ]
        }
      ],
      "source": [
        "!python3 med_Unet/main.py fit --config med_Unet/configs/default_config_2.yaml"
      ]
    },
    {
      "cell_type": "markdown",
      "source": [
        "## Run validation"
      ],
      "metadata": {
        "id": "uHQlazhwF5IR"
      },
      "id": "uHQlazhwF5IR"
    },
    {
      "cell_type": "code",
      "source": [
        "!python3 med_Unet/main.py validate --config med_Unet/configs/default_config_2.yaml"
      ],
      "metadata": {
        "id": "ZCAL2DKBF4Y2",
        "outputId": "61997d61-43fa-42c8-8222-98fd2ed07da7",
        "colab": {
          "base_uri": "https://localhost:8080/"
        }
      },
      "id": "ZCAL2DKBF4Y2",
      "execution_count": 20,
      "outputs": [
        {
          "output_type": "stream",
          "name": "stdout",
          "text": [
            "2025-01-12 15:28:51.067140: E external/local_xla/xla/stream_executor/cuda/cuda_fft.cc:485] Unable to register cuFFT factory: Attempting to register factory for plugin cuFFT when one has already been registered\n",
            "2025-01-12 15:28:51.102693: E external/local_xla/xla/stream_executor/cuda/cuda_dnn.cc:8454] Unable to register cuDNN factory: Attempting to register factory for plugin cuDNN when one has already been registered\n",
            "2025-01-12 15:28:51.113290: E external/local_xla/xla/stream_executor/cuda/cuda_blas.cc:1452] Unable to register cuBLAS factory: Attempting to register factory for plugin cuBLAS when one has already been registered\n",
            "2025-01-12 15:28:51.136958: I tensorflow/core/platform/cpu_feature_guard.cc:210] This TensorFlow binary is optimized to use available CPU instructions in performance-critical operations.\n",
            "To enable the following instructions: AVX2 AVX512F FMA, in other operations, rebuild TensorFlow with the appropriate compiler flags.\n",
            "2025-01-12 15:28:52.655157: W tensorflow/compiler/tf2tensorrt/utils/py_utils.cc:38] TF-TRT Warning: Could not find TensorRT\n",
            "/usr/local/lib/python3.10/dist-packages/lightning/fabric/utilities/seed.py:42: No seed found, seed set to 0\n",
            "Seed set to 0\n",
            "GPU available: True (cuda), used: True\n",
            "TPU available: False, using: 0 TPU cores\n",
            "HPU available: False, using: 0 HPUs\n",
            "Loading dataset: 100% 144/144 [01:21<00:00,  1.77it/s]\n",
            "Loading dataset: 100% 18/18 [00:10<00:00,  1.78it/s]\n",
            "Loading dataset: 100% 18/18 [00:10<00:00,  1.67it/s]\n",
            "LOCAL_RANK: 0 - CUDA_VISIBLE_DEVICES: [0]\n",
            "Validation DataLoader 0: 100% 18/18 [00:04<00:00,  4.00it/s]\n",
            "┏━━━━━━━━━━━━━━━━━━━━━━━━━━━┳━━━━━━━━━━━━━━━━━━━━━━━━━━━┓\n",
            "┃\u001b[1m \u001b[0m\u001b[1m     Validate metric     \u001b[0m\u001b[1m \u001b[0m┃\u001b[1m \u001b[0m\u001b[1m      DataLoader 0       \u001b[0m\u001b[1m \u001b[0m┃\n",
            "┡━━━━━━━━━━━━━━━━━━━━━━━━━━━╇━━━━━━━━━━━━━━━━━━━━━━━━━━━┩\n",
            "│\u001b[36m \u001b[0m\u001b[36m   val_accuracy_epoch    \u001b[0m\u001b[36m \u001b[0m│\u001b[35m \u001b[0m\u001b[35m  0.003493070602416992   \u001b[0m\u001b[35m \u001b[0m│\n",
            "│\u001b[36m \u001b[0m\u001b[36m      val_f1_epoch       \u001b[0m\u001b[36m \u001b[0m│\u001b[35m \u001b[0m\u001b[35m  0.006933994125574827   \u001b[0m\u001b[35m \u001b[0m│\n",
            "│\u001b[36m \u001b[0m\u001b[36m        val_loss         \u001b[0m\u001b[36m \u001b[0m│\u001b[35m \u001b[0m\u001b[35m  0.004464960657060146   \u001b[0m\u001b[35m \u001b[0m│\n",
            "│\u001b[36m \u001b[0m\u001b[36m   val_precision_epoch   \u001b[0m\u001b[36m \u001b[0m│\u001b[35m \u001b[0m\u001b[35m  0.003493070602416992   \u001b[0m\u001b[35m \u001b[0m│\n",
            "│\u001b[36m \u001b[0m\u001b[36m    val_recall_epoch     \u001b[0m\u001b[36m \u001b[0m│\u001b[35m \u001b[0m\u001b[35m           1.0           \u001b[0m\u001b[35m \u001b[0m│\n",
            "└───────────────────────────┴───────────────────────────┘\n"
          ]
        }
      ]
    },
    {
      "cell_type": "markdown",
      "id": "815bd2a3-f5cc-40fa-a2dd-a2bdfe25ee03",
      "metadata": {
        "id": "815bd2a3-f5cc-40fa-a2dd-a2bdfe25ee03"
      },
      "source": [
        "## Run Testing"
      ]
    },
    {
      "cell_type": "code",
      "execution_count": null,
      "id": "bc8ec5e9-3283-4040-8b73-e24a207851a0",
      "metadata": {
        "id": "bc8ec5e9-3283-4040-8b73-e24a207851a0"
      },
      "outputs": [],
      "source": [
        "#!python3 med_Unet/main.py test --config med_Unet/configs/testing_config"
      ]
    }
  ],
  "metadata": {
    "kernelspec": {
      "display_name": "Python 3",
      "name": "python3"
    },
    "language_info": {
      "codemirror_mode": {
        "name": "ipython",
        "version": 3
      },
      "file_extension": ".py",
      "mimetype": "text/x-python",
      "name": "python",
      "nbconvert_exporter": "python",
      "pygments_lexer": "ipython3",
      "version": "3.10.16"
    },
    "colab": {
      "provenance": [],
      "gpuType": "T4",
      "include_colab_link": true
    },
    "accelerator": "GPU"
  },
  "nbformat": 4,
  "nbformat_minor": 5
}