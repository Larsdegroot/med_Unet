{
  "cells": [
    {
      "cell_type": "markdown",
      "metadata": {
        "colab_type": "text",
        "id": "view-in-github"
      },
      "source": [
        "<a href=\"https://colab.research.google.com/github/Larsdegroot/med_Unet/blob/main/run_experiment_colab.ipynb\" target=\"_parent\"><img src=\"https://colab.research.google.com/assets/colab-badge.svg\" alt=\"Open In Colab\"/></a>"
      ]
    },
    {
      "cell_type": "markdown",
      "id": "19c5d769-2bc8-40ed-b4e4-0827f9413e5c",
      "metadata": {
        "id": "19c5d769-2bc8-40ed-b4e4-0827f9413e5c"
      },
      "source": [
        "# Run UNet Training\n",
        "This notebook is meant to be used in google colab to train a UNet model on the WMH dataset for MRI brain image segmentation."
      ]
    },
    {
      "cell_type": "markdown",
      "id": "110c742f-af05-429b-a1e0-542abe5bf94c",
      "metadata": {
        "id": "110c742f-af05-429b-a1e0-542abe5bf94c"
      },
      "source": [
        "## Set up environment"
      ]
    },
    {
      "cell_type": "code",
      "execution_count": 1,
      "id": "6718726d-3e90-44b2-b62e-2607c57bc2dc",
      "metadata": {
        "colab": {
          "base_uri": "https://localhost:8080/"
        },
        "collapsed": true,
        "id": "6718726d-3e90-44b2-b62e-2607c57bc2dc",
        "outputId": "c4870aaf-1ee2-45b1-a52a-bf17bf42904e"
      },
      "outputs": [
        {
          "name": "stdout",
          "output_type": "stream",
          "text": [
            "Requirement already satisfied: torch in c:\\users\\samar\\desktop\\samar\\studies\\msc\\bibc\\aimi\\venv\\lib\\site-packages (2.5.1)\n",
            "Requirement already satisfied: torchvision in c:\\users\\samar\\desktop\\samar\\studies\\msc\\bibc\\aimi\\venv\\lib\\site-packages (0.20.1)\n",
            "Requirement already satisfied: torchaudio in c:\\users\\samar\\desktop\\samar\\studies\\msc\\bibc\\aimi\\venv\\lib\\site-packages (2.5.1)\n",
            "Requirement already satisfied: filelock in c:\\users\\samar\\desktop\\samar\\studies\\msc\\bibc\\aimi\\venv\\lib\\site-packages (from torch) (3.16.1)\n",
            "Requirement already satisfied: typing-extensions>=4.8.0 in c:\\users\\samar\\desktop\\samar\\studies\\msc\\bibc\\aimi\\venv\\lib\\site-packages (from torch) (4.12.2)\n",
            "Requirement already satisfied: networkx in c:\\users\\samar\\desktop\\samar\\studies\\msc\\bibc\\aimi\\venv\\lib\\site-packages (from torch) (3.4.2)\n",
            "Requirement already satisfied: jinja2 in c:\\users\\samar\\desktop\\samar\\studies\\msc\\bibc\\aimi\\venv\\lib\\site-packages (from torch) (3.1.4)\n",
            "Requirement already satisfied: fsspec in c:\\users\\samar\\desktop\\samar\\studies\\msc\\bibc\\aimi\\venv\\lib\\site-packages (from torch) (2024.10.0)\n",
            "Requirement already satisfied: setuptools in c:\\users\\samar\\desktop\\samar\\studies\\msc\\bibc\\aimi\\venv\\lib\\site-packages (from torch) (75.6.0)\n",
            "Requirement already satisfied: sympy==1.13.1 in c:\\users\\samar\\desktop\\samar\\studies\\msc\\bibc\\aimi\\venv\\lib\\site-packages (from torch) (1.13.1)\n",
            "Requirement already satisfied: mpmath<1.4,>=1.1.0 in c:\\users\\samar\\desktop\\samar\\studies\\msc\\bibc\\aimi\\venv\\lib\\site-packages (from sympy==1.13.1->torch) (1.3.0)\n",
            "Requirement already satisfied: numpy in c:\\users\\samar\\desktop\\samar\\studies\\msc\\bibc\\aimi\\venv\\lib\\site-packages (from torchvision) (1.26.4)\n",
            "Requirement already satisfied: pillow!=8.3.*,>=5.3.0 in c:\\users\\samar\\desktop\\samar\\studies\\msc\\bibc\\aimi\\venv\\lib\\site-packages (from torchvision) (11.0.0)\n",
            "Requirement already satisfied: MarkupSafe>=2.0 in c:\\users\\samar\\desktop\\samar\\studies\\msc\\bibc\\aimi\\venv\\lib\\site-packages (from jinja2->torch) (3.0.2)\n",
            "Requirement already satisfied: lightning[pytorch-extra] in c:\\users\\samar\\desktop\\samar\\studies\\msc\\bibc\\aimi\\venv\\lib\\site-packages (2.4.0)\n",
            "Requirement already satisfied: PyYAML<8.0,>=5.4 in c:\\users\\samar\\desktop\\samar\\studies\\msc\\bibc\\aimi\\venv\\lib\\site-packages (from lightning[pytorch-extra]) (6.0.2)\n",
            "Requirement already satisfied: fsspec<2026.0,>=2022.5.0 in c:\\users\\samar\\desktop\\samar\\studies\\msc\\bibc\\aimi\\venv\\lib\\site-packages (from fsspec[http]<2026.0,>=2022.5.0->lightning[pytorch-extra]) (2024.10.0)\n",
            "Requirement already satisfied: lightning-utilities<2.0,>=0.10.0 in c:\\users\\samar\\desktop\\samar\\studies\\msc\\bibc\\aimi\\venv\\lib\\site-packages (from lightning[pytorch-extra]) (0.11.9)\n",
            "Requirement already satisfied: packaging<25.0,>=20.0 in c:\\users\\samar\\desktop\\samar\\studies\\msc\\bibc\\aimi\\venv\\lib\\site-packages (from lightning[pytorch-extra]) (24.2)\n",
            "Requirement already satisfied: torch<4.0,>=2.1.0 in c:\\users\\samar\\desktop\\samar\\studies\\msc\\bibc\\aimi\\venv\\lib\\site-packages (from lightning[pytorch-extra]) (2.5.1)\n",
            "Requirement already satisfied: torchmetrics<3.0,>=0.7.0 in c:\\users\\samar\\desktop\\samar\\studies\\msc\\bibc\\aimi\\venv\\lib\\site-packages (from lightning[pytorch-extra]) (1.6.0)\n",
            "Requirement already satisfied: tqdm<6.0,>=4.57.0 in c:\\users\\samar\\desktop\\samar\\studies\\msc\\bibc\\aimi\\venv\\lib\\site-packages (from lightning[pytorch-extra]) (4.67.1)\n",
            "Requirement already satisfied: typing-extensions<6.0,>=4.4.0 in c:\\users\\samar\\desktop\\samar\\studies\\msc\\bibc\\aimi\\venv\\lib\\site-packages (from lightning[pytorch-extra]) (4.12.2)\n",
            "Requirement already satisfied: pytorch-lightning in c:\\users\\samar\\desktop\\samar\\studies\\msc\\bibc\\aimi\\venv\\lib\\site-packages (from lightning[pytorch-extra]) (2.4.0)\n",
            "Requirement already satisfied: bitsandbytes<1.0,>=0.42.0 in c:\\users\\samar\\desktop\\samar\\studies\\msc\\bibc\\aimi\\venv\\lib\\site-packages (from lightning[pytorch-extra]) (0.42.0)\n",
            "Requirement already satisfied: hydra-core<2.0,>=1.2.0 in c:\\users\\samar\\desktop\\samar\\studies\\msc\\bibc\\aimi\\venv\\lib\\site-packages (from lightning[pytorch-extra]) (1.3.2)\n",
            "Requirement already satisfied: jsonargparse<5.0,>=4.27.7 in c:\\users\\samar\\desktop\\samar\\studies\\msc\\bibc\\aimi\\venv\\lib\\site-packages (from jsonargparse[signatures]<5.0,>=4.27.7; extra == \"pytorch-extra\"->lightning[pytorch-extra]) (4.35.0)\n",
            "Requirement already satisfied: matplotlib<4.0,>3.1 in c:\\users\\samar\\desktop\\samar\\studies\\msc\\bibc\\aimi\\venv\\lib\\site-packages (from lightning[pytorch-extra]) (3.10.0)\n",
            "Requirement already satisfied: omegaconf<3.0,>=2.2.3 in c:\\users\\samar\\desktop\\samar\\studies\\msc\\bibc\\aimi\\venv\\lib\\site-packages (from lightning[pytorch-extra]) (2.3.0)\n",
            "Requirement already satisfied: rich<14.0,>=12.3.0 in c:\\users\\samar\\desktop\\samar\\studies\\msc\\bibc\\aimi\\venv\\lib\\site-packages (from lightning[pytorch-extra]) (13.9.4)\n",
            "Requirement already satisfied: tensorboardX<3.0,>=2.2 in c:\\users\\samar\\desktop\\samar\\studies\\msc\\bibc\\aimi\\venv\\lib\\site-packages (from lightning[pytorch-extra]) (2.6.2.2)\n",
            "Requirement already satisfied: scipy in c:\\users\\samar\\desktop\\samar\\studies\\msc\\bibc\\aimi\\venv\\lib\\site-packages (from bitsandbytes<1.0,>=0.42.0->lightning[pytorch-extra]) (1.14.1)\n",
            "Requirement already satisfied: aiohttp!=4.0.0a0,!=4.0.0a1 in c:\\users\\samar\\desktop\\samar\\studies\\msc\\bibc\\aimi\\venv\\lib\\site-packages (from fsspec[http]<2026.0,>=2022.5.0->lightning[pytorch-extra]) (3.11.10)\n",
            "Requirement already satisfied: antlr4-python3-runtime==4.9.* in c:\\users\\samar\\desktop\\samar\\studies\\msc\\bibc\\aimi\\venv\\lib\\site-packages (from hydra-core<2.0,>=1.2.0->lightning[pytorch-extra]) (4.9.3)\n",
            "Requirement already satisfied: docstring-parser>=0.15 in c:\\users\\samar\\desktop\\samar\\studies\\msc\\bibc\\aimi\\venv\\lib\\site-packages (from jsonargparse[signatures]<5.0,>=4.27.7; extra == \"pytorch-extra\"->lightning[pytorch-extra]) (0.16)\n",
            "Requirement already satisfied: typeshed-client>=2.1.0 in c:\\users\\samar\\desktop\\samar\\studies\\msc\\bibc\\aimi\\venv\\lib\\site-packages (from jsonargparse[signatures]<5.0,>=4.27.7; extra == \"pytorch-extra\"->lightning[pytorch-extra]) (2.7.0)\n",
            "Requirement already satisfied: setuptools in c:\\users\\samar\\desktop\\samar\\studies\\msc\\bibc\\aimi\\venv\\lib\\site-packages (from lightning-utilities<2.0,>=0.10.0->lightning[pytorch-extra]) (75.6.0)\n",
            "Requirement already satisfied: contourpy>=1.0.1 in c:\\users\\samar\\desktop\\samar\\studies\\msc\\bibc\\aimi\\venv\\lib\\site-packages (from matplotlib<4.0,>3.1->lightning[pytorch-extra]) (1.3.1)\n",
            "Requirement already satisfied: cycler>=0.10 in c:\\users\\samar\\desktop\\samar\\studies\\msc\\bibc\\aimi\\venv\\lib\\site-packages (from matplotlib<4.0,>3.1->lightning[pytorch-extra]) (0.12.1)\n",
            "Requirement already satisfied: fonttools>=4.22.0 in c:\\users\\samar\\desktop\\samar\\studies\\msc\\bibc\\aimi\\venv\\lib\\site-packages (from matplotlib<4.0,>3.1->lightning[pytorch-extra]) (4.55.3)\n",
            "Requirement already satisfied: kiwisolver>=1.3.1 in c:\\users\\samar\\desktop\\samar\\studies\\msc\\bibc\\aimi\\venv\\lib\\site-packages (from matplotlib<4.0,>3.1->lightning[pytorch-extra]) (1.4.7)\n",
            "Requirement already satisfied: numpy>=1.23 in c:\\users\\samar\\desktop\\samar\\studies\\msc\\bibc\\aimi\\venv\\lib\\site-packages (from matplotlib<4.0,>3.1->lightning[pytorch-extra]) (1.26.4)\n",
            "Requirement already satisfied: pillow>=8 in c:\\users\\samar\\desktop\\samar\\studies\\msc\\bibc\\aimi\\venv\\lib\\site-packages (from matplotlib<4.0,>3.1->lightning[pytorch-extra]) (11.0.0)\n",
            "Requirement already satisfied: pyparsing>=2.3.1 in c:\\users\\samar\\desktop\\samar\\studies\\msc\\bibc\\aimi\\venv\\lib\\site-packages (from matplotlib<4.0,>3.1->lightning[pytorch-extra]) (3.2.0)\n",
            "Requirement already satisfied: python-dateutil>=2.7 in c:\\users\\samar\\desktop\\samar\\studies\\msc\\bibc\\aimi\\venv\\lib\\site-packages (from matplotlib<4.0,>3.1->lightning[pytorch-extra]) (2.9.0.post0)\n",
            "Requirement already satisfied: markdown-it-py>=2.2.0 in c:\\users\\samar\\desktop\\samar\\studies\\msc\\bibc\\aimi\\venv\\lib\\site-packages (from rich<14.0,>=12.3.0->lightning[pytorch-extra]) (3.0.0)\n",
            "Requirement already satisfied: pygments<3.0.0,>=2.13.0 in c:\\users\\samar\\desktop\\samar\\studies\\msc\\bibc\\aimi\\venv\\lib\\site-packages (from rich<14.0,>=12.3.0->lightning[pytorch-extra]) (2.18.0)\n",
            "Requirement already satisfied: protobuf>=3.20 in c:\\users\\samar\\desktop\\samar\\studies\\msc\\bibc\\aimi\\venv\\lib\\site-packages (from tensorboardX<3.0,>=2.2->lightning[pytorch-extra]) (5.29.1)\n",
            "Requirement already satisfied: filelock in c:\\users\\samar\\desktop\\samar\\studies\\msc\\bibc\\aimi\\venv\\lib\\site-packages (from torch<4.0,>=2.1.0->lightning[pytorch-extra]) (3.16.1)\n",
            "Requirement already satisfied: networkx in c:\\users\\samar\\desktop\\samar\\studies\\msc\\bibc\\aimi\\venv\\lib\\site-packages (from torch<4.0,>=2.1.0->lightning[pytorch-extra]) (3.4.2)\n",
            "Requirement already satisfied: jinja2 in c:\\users\\samar\\desktop\\samar\\studies\\msc\\bibc\\aimi\\venv\\lib\\site-packages (from torch<4.0,>=2.1.0->lightning[pytorch-extra]) (3.1.4)\n",
            "Requirement already satisfied: sympy==1.13.1 in c:\\users\\samar\\desktop\\samar\\studies\\msc\\bibc\\aimi\\venv\\lib\\site-packages (from torch<4.0,>=2.1.0->lightning[pytorch-extra]) (1.13.1)\n",
            "Requirement already satisfied: mpmath<1.4,>=1.1.0 in c:\\users\\samar\\desktop\\samar\\studies\\msc\\bibc\\aimi\\venv\\lib\\site-packages (from sympy==1.13.1->torch<4.0,>=2.1.0->lightning[pytorch-extra]) (1.3.0)\n",
            "Requirement already satisfied: colorama in c:\\users\\samar\\desktop\\samar\\studies\\msc\\bibc\\aimi\\venv\\lib\\site-packages (from tqdm<6.0,>=4.57.0->lightning[pytorch-extra]) (0.4.6)\n",
            "Requirement already satisfied: aiohappyeyeballs>=2.3.0 in c:\\users\\samar\\desktop\\samar\\studies\\msc\\bibc\\aimi\\venv\\lib\\site-packages (from aiohttp!=4.0.0a0,!=4.0.0a1->fsspec[http]<2026.0,>=2022.5.0->lightning[pytorch-extra]) (2.4.4)\n",
            "Requirement already satisfied: aiosignal>=1.1.2 in c:\\users\\samar\\desktop\\samar\\studies\\msc\\bibc\\aimi\\venv\\lib\\site-packages (from aiohttp!=4.0.0a0,!=4.0.0a1->fsspec[http]<2026.0,>=2022.5.0->lightning[pytorch-extra]) (1.3.2)\n",
            "Requirement already satisfied: attrs>=17.3.0 in c:\\users\\samar\\desktop\\samar\\studies\\msc\\bibc\\aimi\\venv\\lib\\site-packages (from aiohttp!=4.0.0a0,!=4.0.0a1->fsspec[http]<2026.0,>=2022.5.0->lightning[pytorch-extra]) (24.2.0)\n",
            "Requirement already satisfied: frozenlist>=1.1.1 in c:\\users\\samar\\desktop\\samar\\studies\\msc\\bibc\\aimi\\venv\\lib\\site-packages (from aiohttp!=4.0.0a0,!=4.0.0a1->fsspec[http]<2026.0,>=2022.5.0->lightning[pytorch-extra]) (1.5.0)\n",
            "Requirement already satisfied: multidict<7.0,>=4.5 in c:\\users\\samar\\desktop\\samar\\studies\\msc\\bibc\\aimi\\venv\\lib\\site-packages (from aiohttp!=4.0.0a0,!=4.0.0a1->fsspec[http]<2026.0,>=2022.5.0->lightning[pytorch-extra]) (6.1.0)\n",
            "Requirement already satisfied: propcache>=0.2.0 in c:\\users\\samar\\desktop\\samar\\studies\\msc\\bibc\\aimi\\venv\\lib\\site-packages (from aiohttp!=4.0.0a0,!=4.0.0a1->fsspec[http]<2026.0,>=2022.5.0->lightning[pytorch-extra]) (0.2.1)\n",
            "Requirement already satisfied: yarl<2.0,>=1.17.0 in c:\\users\\samar\\desktop\\samar\\studies\\msc\\bibc\\aimi\\venv\\lib\\site-packages (from aiohttp!=4.0.0a0,!=4.0.0a1->fsspec[http]<2026.0,>=2022.5.0->lightning[pytorch-extra]) (1.18.3)\n",
            "Requirement already satisfied: mdurl~=0.1 in c:\\users\\samar\\desktop\\samar\\studies\\msc\\bibc\\aimi\\venv\\lib\\site-packages (from markdown-it-py>=2.2.0->rich<14.0,>=12.3.0->lightning[pytorch-extra]) (0.1.2)\n",
            "Requirement already satisfied: six>=1.5 in c:\\users\\samar\\desktop\\samar\\studies\\msc\\bibc\\aimi\\venv\\lib\\site-packages (from python-dateutil>=2.7->matplotlib<4.0,>3.1->lightning[pytorch-extra]) (1.17.0)\n",
            "Requirement already satisfied: importlib-resources>=1.4.0 in c:\\users\\samar\\desktop\\samar\\studies\\msc\\bibc\\aimi\\venv\\lib\\site-packages (from typeshed-client>=2.1.0->jsonargparse[signatures]<5.0,>=4.27.7; extra == \"pytorch-extra\"->lightning[pytorch-extra]) (6.4.5)\n",
            "Requirement already satisfied: MarkupSafe>=2.0 in c:\\users\\samar\\desktop\\samar\\studies\\msc\\bibc\\aimi\\venv\\lib\\site-packages (from jinja2->torch<4.0,>=2.1.0->lightning[pytorch-extra]) (3.0.2)\n",
            "Requirement already satisfied: idna>=2.0 in c:\\users\\samar\\desktop\\samar\\studies\\msc\\bibc\\aimi\\venv\\lib\\site-packages (from yarl<2.0,>=1.17.0->aiohttp!=4.0.0a0,!=4.0.0a1->fsspec[http]<2026.0,>=2022.5.0->lightning[pytorch-extra]) (3.10)\n",
            "Requirement already satisfied: monai in c:\\users\\samar\\desktop\\samar\\studies\\msc\\bibc\\aimi\\venv\\lib\\site-packages (1.4.1rc1+1.g21920a34)\n",
            "Requirement already satisfied: torch>=1.9 in c:\\users\\samar\\desktop\\samar\\studies\\msc\\bibc\\aimi\\venv\\lib\\site-packages (from monai) (2.5.1)\n",
            "Requirement already satisfied: numpy<2.0,>=1.24 in c:\\users\\samar\\desktop\\samar\\studies\\msc\\bibc\\aimi\\venv\\lib\\site-packages (from monai) (1.26.4)\n",
            "Requirement already satisfied: filelock in c:\\users\\samar\\desktop\\samar\\studies\\msc\\bibc\\aimi\\venv\\lib\\site-packages (from torch>=1.9->monai) (3.16.1)\n",
            "Requirement already satisfied: typing-extensions>=4.8.0 in c:\\users\\samar\\desktop\\samar\\studies\\msc\\bibc\\aimi\\venv\\lib\\site-packages (from torch>=1.9->monai) (4.12.2)\n",
            "Requirement already satisfied: networkx in c:\\users\\samar\\desktop\\samar\\studies\\msc\\bibc\\aimi\\venv\\lib\\site-packages (from torch>=1.9->monai) (3.4.2)\n",
            "Requirement already satisfied: jinja2 in c:\\users\\samar\\desktop\\samar\\studies\\msc\\bibc\\aimi\\venv\\lib\\site-packages (from torch>=1.9->monai) (3.1.4)\n",
            "Requirement already satisfied: fsspec in c:\\users\\samar\\desktop\\samar\\studies\\msc\\bibc\\aimi\\venv\\lib\\site-packages (from torch>=1.9->monai) (2024.10.0)\n",
            "Requirement already satisfied: setuptools in c:\\users\\samar\\desktop\\samar\\studies\\msc\\bibc\\aimi\\venv\\lib\\site-packages (from torch>=1.9->monai) (75.6.0)\n",
            "Requirement already satisfied: sympy==1.13.1 in c:\\users\\samar\\desktop\\samar\\studies\\msc\\bibc\\aimi\\venv\\lib\\site-packages (from torch>=1.9->monai) (1.13.1)\n",
            "Requirement already satisfied: mpmath<1.4,>=1.1.0 in c:\\users\\samar\\desktop\\samar\\studies\\msc\\bibc\\aimi\\venv\\lib\\site-packages (from sympy==1.13.1->torch>=1.9->monai) (1.3.0)\n",
            "Requirement already satisfied: MarkupSafe>=2.0 in c:\\users\\samar\\desktop\\samar\\studies\\msc\\bibc\\aimi\\venv\\lib\\site-packages (from jinja2->torch>=1.9->monai) (3.0.2)\n",
            "Requirement already satisfied: SimpleITK in c:\\users\\samar\\desktop\\samar\\studies\\msc\\bibc\\aimi\\venv\\lib\\site-packages (2.4.0)\n"
          ]
        }
      ],
      "source": [
        "# don't restart session it's fine colab is a liar\n",
        "!pip3 install torch torchvision torchaudio\n",
        "!pip3 install \"lightning[pytorch-extra]\"\n",
        "!pip3 install monai\n",
        "!pip3 install SimpleITK"
      ]
    },
    {
      "cell_type": "code",
      "execution_count": 3,
      "id": "qjHr3DOmHavn",
      "metadata": {
        "colab": {
          "base_uri": "https://localhost:8080/"
        },
        "id": "qjHr3DOmHavn",
        "outputId": "fe7b9fab-df5b-44e0-95e2-1fb3e08049f8"
      },
      "outputs": [
        {
          "name": "stdout",
          "output_type": "stream",
          "text": [
            "Cloning into 'med_Unet'...\n",
            "remote: Enumerating objects: 185, done.\u001b[K\n",
            "remote: Counting objects: 100% (26/26), done.\u001b[K\n",
            "remote: Compressing objects: 100% (26/26), done.\u001b[K\n",
            "remote: Total 185 (delta 6), reused 2 (delta 0), pack-reused 159 (from 1)\u001b[K\n",
            "Receiving objects: 100% (185/185), 1.24 MiB | 4.83 MiB/s, done.\n",
            "Resolving deltas: 100% (103/103), done.\n"
          ]
        }
      ],
      "source": [
        "! git clone \"https://github.com/Larsdegroot/med_Unet\""
      ]
    },
    {
      "cell_type": "code",
      "execution_count": 5,
      "id": "65D3sMMkHiRt",
      "metadata": {
        "colab": {
          "base_uri": "https://localhost:8080/"
        },
        "id": "65D3sMMkHiRt",
        "outputId": "c758d0de-fd1d-4125-ead3-c0ae4b13d6c9"
      },
      "outputs": [
        {
          "name": "stdout",
          "output_type": "stream",
          "text": [
            "No zipfile found for the WMH dataset in med_Unet/data\n",
            "No zipfile found for the BraTS dataset in med_Unet/data\n"
          ]
        }
      ],
      "source": [
        "import zipfile\n",
        "from pathlib import Path\n",
        "\n",
        "# Define the target directory\n",
        "target_dir = Path(\"med_Unet/data\")\n",
        "\n",
        "# Create the directory if it doesn't exist\n",
        "target_dir.mkdir(parents=True, exist_ok=True)\n",
        "\n",
        "# Extract the ZIP files\n",
        "for dataset in [\"WMH\", \"BraTS\"]:\n",
        "  try:\n",
        "    with zipfile.ZipFile(f\"med_Unet/data/{dataset}.zip\", 'r') as zip_ref:\n",
        "        zip_ref.extractall(target_dir)\n",
        "    print(f\"Extracted the {dataset} dataset.\")\n",
        "  except FileNotFoundError: print(f\"No zipfile found for the {dataset} dataset in {target_dir}\")\n",
        "  except zipfile.BadZipFile: print(f\"Zipfile for {dataset} not complete, wait for it to upload\")\n"
      ]
    },
    {
      "cell_type": "markdown",
      "id": "20f3b8e1",
      "metadata": {},
      "source": [
        "## Config rclone"
      ]
    },
    {
      "cell_type": "code",
      "execution_count": null,
      "id": "5d0f17f7",
      "metadata": {},
      "outputs": [],
      "source": [
        "!wget https://downloads.rclone.org/v1.68.2/rclone-v1.68.2-linux-amd64.deb\n",
        "!apt install ./rclone-v1.68.2-linux-amd64.deb\n",
        "!sudo apt-get -y install fuse3"
      ]
    },
    {
      "cell_type": "code",
      "execution_count": null,
      "id": "26f1c924",
      "metadata": {},
      "outputs": [],
      "source": [
        "!rclone config"
      ]
    },
    {
      "cell_type": "code",
      "execution_count": null,
      "id": "086185fe",
      "metadata": {},
      "outputs": [],
      "source": [
        "!sudo mkdir /content/onedrive"
      ]
    },
    {
      "cell_type": "code",
      "execution_count": null,
      "id": "660dd728",
      "metadata": {},
      "outputs": [],
      "source": [
        "!nohup rclone mount onedrive:/ /content/onedrive --daemon --vfs-cache-mode full --log-file /tmp/rclone.log --log-level DEBUG"
      ]
    },
    {
      "cell_type": "markdown",
      "id": "6a96c686-0d1e-46d1-a87b-6172b3e43b32",
      "metadata": {
        "id": "6a96c686-0d1e-46d1-a87b-6172b3e43b32"
      },
      "source": [
        "## Run training"
      ]
    },
    {
      "cell_type": "code",
      "execution_count": 2,
      "id": "70053808-1718-4eb2-a77f-267ff9e1074d",
      "metadata": {
        "colab": {
          "base_uri": "https://localhost:8080/"
        },
        "id": "70053808-1718-4eb2-a77f-267ff9e1074d",
        "outputId": "f6e96612-9758-419a-afef-e84f80a4119a"
      },
      "outputs": [
        {
          "name": "stderr",
          "output_type": "stream",
          "text": [
            "Python was not found; run without arguments to install from the Microsoft Store, or disable this shortcut from Settings > Manage App Execution Aliases.\n"
          ]
        }
      ],
      "source": [
        "# run exp on Colab\n",
        "!python3 /content/med_Unet/main.py fit --config /content/med_Unet/configs/configs_exp_7_1_brats.yaml"
      ]
    },
    {
      "cell_type": "code",
      "execution_count": 5,
      "id": "88755e66",
      "metadata": {},
      "outputs": [
        {
          "name": "stderr",
          "output_type": "stream",
          "text": [
            "c:\\Users\\samar\\Desktop\\Samar\\Studies\\MSc\\BiBC\\AIMI\\venv\\Lib\\site-packages\\ignite\\handlers\\checkpoint.py:17: DeprecationWarning: `TorchScript` support for functional optimizers is deprecated and will be removed in a future PyTorch release. Consider using the `torch.compile` optimizer instead.\n",
            "  from torch.distributed.optim import ZeroRedundancyOptimizer\n",
            "No seed found, seed set to 0\n",
            "Seed set to 0\n",
            "`LitUNet.configure_optimizers` will be overridden by `LightningCLI.configure_optimizers`.\n",
            "GPU available: False, used: False\n",
            "TPU available: False, using: 0 TPU cores\n",
            "HPU available: False, using: 0 HPUs\n",
            "Traceback (most recent call last):\n",
            "  File \"c:\\Users\\samar\\Desktop\\Samar\\Studies\\MSc\\BiBC\\AIMI\\med_Unet\\main.py\", line 23, in <module>\n",
            "    cli_main()\n",
            "  File \"c:\\Users\\samar\\Desktop\\Samar\\Studies\\MSc\\BiBC\\AIMI\\med_Unet\\main.py\", line 19, in cli_main\n",
            "    cli = LightningCLI(LitUNet, MRIDataModule)\n",
            "          ^^^^^^^^^^^^^^^^^^^^^^^^^^^^^^^^^^^^\n",
            "  File \"c:\\Users\\samar\\Desktop\\Samar\\Studies\\MSc\\BiBC\\AIMI\\venv\\Lib\\site-packages\\lightning\\pytorch\\cli.py\", line 394, in __init__\n",
            "    self._run_subcommand(self.subcommand)\n",
            "  File \"c:\\Users\\samar\\Desktop\\Samar\\Studies\\MSc\\BiBC\\AIMI\\venv\\Lib\\site-packages\\lightning\\pytorch\\cli.py\", line 701, in _run_subcommand\n",
            "    fn(**fn_kwargs)\n",
            "  File \"c:\\Users\\samar\\Desktop\\Samar\\Studies\\MSc\\BiBC\\AIMI\\venv\\Lib\\site-packages\\lightning\\pytorch\\trainer\\trainer.py\", line 538, in fit\n",
            "    call._call_and_handle_interrupt(\n",
            "  File \"c:\\Users\\samar\\Desktop\\Samar\\Studies\\MSc\\BiBC\\AIMI\\venv\\Lib\\site-packages\\lightning\\pytorch\\trainer\\call.py\", line 47, in _call_and_handle_interrupt\n",
            "    return trainer_fn(*args, **kwargs)\n",
            "           ^^^^^^^^^^^^^^^^^^^^^^^^^^^\n",
            "  File \"c:\\Users\\samar\\Desktop\\Samar\\Studies\\MSc\\BiBC\\AIMI\\venv\\Lib\\site-packages\\lightning\\pytorch\\trainer\\trainer.py\", line 574, in _fit_impl\n",
            "    self._run(model, ckpt_path=ckpt_path)\n",
            "  File \"c:\\Users\\samar\\Desktop\\Samar\\Studies\\MSc\\BiBC\\AIMI\\venv\\Lib\\site-packages\\lightning\\pytorch\\trainer\\trainer.py\", line 943, in _run\n",
            "    call._call_setup_hook(self)  # allow user to set up LightningModule in accelerator environment\n",
            "    ^^^^^^^^^^^^^^^^^^^^^^^^^^^\n",
            "  File \"c:\\Users\\samar\\Desktop\\Samar\\Studies\\MSc\\BiBC\\AIMI\\venv\\Lib\\site-packages\\lightning\\pytorch\\trainer\\call.py\", line 102, in _call_setup_hook\n",
            "    _call_lightning_datamodule_hook(trainer, \"setup\", stage=fn)\n",
            "  File \"c:\\Users\\samar\\Desktop\\Samar\\Studies\\MSc\\BiBC\\AIMI\\venv\\Lib\\site-packages\\lightning\\pytorch\\trainer\\call.py\", line 189, in _call_lightning_datamodule_hook\n",
            "    return fn(*args, **kwargs)\n",
            "           ^^^^^^^^^^^^^^^^^^^\n",
            "  File \"c:\\Users\\samar\\Desktop\\Samar\\Studies\\MSc\\BiBC\\AIMI\\med_Unet\\data_loading.py\", line 252, in setup\n",
            "    all_samples.extend(self.collect_samples_brats(self.data_dir))\n",
            "                       ^^^^^^^^^^^^^^^^^^^^^^^^^^^^^^^^^^^^^^^^^\n",
            "  File \"c:\\Users\\samar\\Desktop\\Samar\\Studies\\MSc\\BiBC\\AIMI\\med_Unet\\data_loading.py\", line 216, in collect_samples_brats\n",
            "    seg_image = LoadImaged(keys=[\"seg\"])({\"seg\": seg_path})[\"seg\"]\n",
            "                ^^^^^^^^^^^^^^^^^^^^^^^^^^^^^^^^^^^^^^^^^^^\n",
            "  File \"C:\\Users\\samar\\Desktop\\Samar\\Studies\\MSc\\BiBC\\AIMI\\venv\\src\\monai\\monai\\transforms\\io\\dictionary.py\", line 163, in __call__\n",
            "    data = self._loader(d[key], reader)\n",
            "           ^^^^^^^^^^^^^^^^^^^^^^^^^^^^\n",
            "  File \"C:\\Users\\samar\\Desktop\\Samar\\Studies\\MSc\\BiBC\\AIMI\\venv\\src\\monai\\monai\\transforms\\io\\array.py\", line 292, in __call__\n",
            "    img_array = convert_to_dst_type(img_array, dst=img_array, dtype=self.dtype)[0]\n",
            "                ^^^^^^^^^^^^^^^^^^^^^^^^^^^^^^^^^^^^^^^^^^^^^^^^^^^^^^^^^^^^^^^\n",
            "  File \"C:\\Users\\samar\\Desktop\\Samar\\Studies\\MSc\\BiBC\\AIMI\\venv\\src\\monai\\monai\\utils\\type_conversion.py\", line 388, in convert_to_dst_type\n",
            "    output, _type, _device = convert_data_type(\n",
            "                             ^^^^^^^^^^^^^^^^^^\n",
            "  File \"C:\\Users\\samar\\Desktop\\Samar\\Studies\\MSc\\BiBC\\AIMI\\venv\\src\\monai\\monai\\utils\\type_conversion.py\", line 335, in convert_data_type\n",
            "    data_ = convert_to_numpy(data, dtype=dtype_, wrap_sequence=wrap_sequence, safe=safe)\n",
            "            ^^^^^^^^^^^^^^^^^^^^^^^^^^^^^^^^^^^^^^^^^^^^^^^^^^^^^^^^^^^^^^^^^^^^^^^^^^^^\n",
            "  File \"C:\\Users\\samar\\Desktop\\Samar\\Studies\\MSc\\BiBC\\AIMI\\venv\\src\\monai\\monai\\utils\\type_conversion.py\", line 213, in convert_to_numpy\n",
            "    data = np.asarray(data, dtype=dtype)\n",
            "           ^^^^^^^^^^^^^^^^^^^^^^^^^^^^^\n",
            "numpy.core._exceptions._ArrayMemoryError: Unable to allocate 34.1 MiB for an array with shape (240, 240, 155) and data type float32\n"
          ]
        }
      ],
      "source": [
        "# run exp locally\n",
        "!python ./main.py fit --config ./configs/configs_exp_7_brats.yaml"
      ]
    },
    {
      "cell_type": "markdown",
      "id": "815bd2a3-f5cc-40fa-a2dd-a2bdfe25ee03",
      "metadata": {
        "id": "815bd2a3-f5cc-40fa-a2dd-a2bdfe25ee03"
      },
      "source": [
        "## Run Testing"
      ]
    },
    {
      "cell_type": "code",
      "execution_count": null,
      "id": "bc8ec5e9-3283-4040-8b73-e24a207851a0",
      "metadata": {
        "id": "bc8ec5e9-3283-4040-8b73-e24a207851a0"
      },
      "outputs": [],
      "source": [
        "#!python3 med_Unet/main.py test --config med_Unet/configs/testing_config"
      ]
    }
  ],
  "metadata": {
    "colab": {
      "include_colab_link": true,
      "provenance": []
    },
    "kernelspec": {
      "display_name": "venv",
      "language": "python",
      "name": "python3"
    },
    "language_info": {
      "codemirror_mode": {
        "name": "ipython",
        "version": 3
      },
      "file_extension": ".py",
      "mimetype": "text/x-python",
      "name": "python",
      "nbconvert_exporter": "python",
      "pygments_lexer": "ipython3",
      "version": "3.12.8"
    }
  },
  "nbformat": 4,
  "nbformat_minor": 5
}
