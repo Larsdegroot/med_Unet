{
  "cells": [
    {
      "cell_type": "markdown",
      "metadata": {
        "colab_type": "text",
        "id": "view-in-github"
      },
      "source": [
        "<a href=\"https://colab.research.google.com/github/Larsdegroot/med_Unet/blob/main/run_experiment_colab.ipynb\" target=\"_parent\"><img src=\"https://colab.research.google.com/assets/colab-badge.svg\" alt=\"Open In Colab\"/></a>"
      ]
    },
    {
      "cell_type": "markdown",
      "id": "19c5d769-2bc8-40ed-b4e4-0827f9413e5c",
      "metadata": {
        "id": "19c5d769-2bc8-40ed-b4e4-0827f9413e5c"
      },
      "source": [
        "# Run UNet Training\n",
        "This notebook is meant to be used in google colab to train a UNet model on the WMH dataset for MRI brain image segmentation."
      ]
    },
    {
      "cell_type": "markdown",
      "id": "110c742f-af05-429b-a1e0-542abe5bf94c",
      "metadata": {
        "id": "110c742f-af05-429b-a1e0-542abe5bf94c"
      },
      "source": [
        "## Set up environment"
      ]
    },
    {
      "cell_type": "code",
      "execution_count": 2,
      "id": "6718726d-3e90-44b2-b62e-2607c57bc2dc",
      "metadata": {
        "colab": {
          "base_uri": "https://localhost:8080/"
        },
        "collapsed": true,
        "id": "6718726d-3e90-44b2-b62e-2607c57bc2dc",
        "outputId": "c4870aaf-1ee2-45b1-a52a-bf17bf42904e"
      },
      "outputs": [
        {
          "name": "stdout",
          "output_type": "stream",
          "text": [
            "Requirement already satisfied: torch in /usr/local/lib/python3.10/dist-packages (2.5.1+cu121)\n",
            "Requirement already satisfied: torchvision in /usr/local/lib/python3.10/dist-packages (0.20.1+cu121)\n",
            "Requirement already satisfied: torchaudio in /usr/local/lib/python3.10/dist-packages (2.5.1+cu121)\n",
            "Requirement already satisfied: filelock in /usr/local/lib/python3.10/dist-packages (from torch) (3.16.1)\n",
            "Requirement already satisfied: typing-extensions>=4.8.0 in /usr/local/lib/python3.10/dist-packages (from torch) (4.12.2)\n",
            "Requirement already satisfied: networkx in /usr/local/lib/python3.10/dist-packages (from torch) (3.4.2)\n",
            "Requirement already satisfied: jinja2 in /usr/local/lib/python3.10/dist-packages (from torch) (3.1.5)\n",
            "Requirement already satisfied: fsspec in /usr/local/lib/python3.10/dist-packages (from torch) (2024.10.0)\n",
            "Requirement already satisfied: sympy==1.13.1 in /usr/local/lib/python3.10/dist-packages (from torch) (1.13.1)\n",
            "Requirement already satisfied: mpmath<1.4,>=1.1.0 in /usr/local/lib/python3.10/dist-packages (from sympy==1.13.1->torch) (1.3.0)\n",
            "Requirement already satisfied: numpy in /usr/local/lib/python3.10/dist-packages (from torchvision) (1.26.4)\n",
            "Requirement already satisfied: pillow!=8.3.*,>=5.3.0 in /usr/local/lib/python3.10/dist-packages (from torchvision) (11.1.0)\n",
            "Requirement already satisfied: MarkupSafe>=2.0 in /usr/local/lib/python3.10/dist-packages (from jinja2->torch) (3.0.2)\n",
            "Requirement already satisfied: lightning[pytorch-extra] in /usr/local/lib/python3.10/dist-packages (2.5.0.post0)\n",
            "Requirement already satisfied: PyYAML<8.0,>=5.4 in /usr/local/lib/python3.10/dist-packages (from lightning[pytorch-extra]) (6.0.2)\n",
            "Requirement already satisfied: fsspec<2026.0,>=2022.5.0 in /usr/local/lib/python3.10/dist-packages (from fsspec[http]<2026.0,>=2022.5.0->lightning[pytorch-extra]) (2024.10.0)\n",
            "Requirement already satisfied: lightning-utilities<2.0,>=0.10.0 in /usr/local/lib/python3.10/dist-packages (from lightning[pytorch-extra]) (0.11.9)\n",
            "Requirement already satisfied: packaging<25.0,>=20.0 in /usr/local/lib/python3.10/dist-packages (from lightning[pytorch-extra]) (24.2)\n",
            "Requirement already satisfied: torch<4.0,>=2.1.0 in /usr/local/lib/python3.10/dist-packages (from lightning[pytorch-extra]) (2.5.1+cu121)\n",
            "Requirement already satisfied: torchmetrics<3.0,>=0.7.0 in /usr/local/lib/python3.10/dist-packages (from lightning[pytorch-extra]) (1.6.1)\n",
            "Requirement already satisfied: tqdm<6.0,>=4.57.0 in /usr/local/lib/python3.10/dist-packages (from lightning[pytorch-extra]) (4.67.1)\n",
            "Requirement already satisfied: typing-extensions<6.0,>=4.4.0 in /usr/local/lib/python3.10/dist-packages (from lightning[pytorch-extra]) (4.12.2)\n",
            "Requirement already satisfied: pytorch-lightning in /usr/local/lib/python3.10/dist-packages (from lightning[pytorch-extra]) (2.5.0.post0)\n",
            "Requirement already satisfied: hydra-core<2.0,>=1.2.0 in /usr/local/lib/python3.10/dist-packages (from lightning[pytorch-extra]) (1.3.2)\n",
            "Requirement already satisfied: jsonargparse<5.0,>=4.27.7 in /usr/local/lib/python3.10/dist-packages (from jsonargparse[signatures]<5.0,>=4.27.7; extra == \"pytorch-extra\"->lightning[pytorch-extra]) (4.35.0)\n",
            "Requirement already satisfied: matplotlib<4.0,>3.1 in /usr/local/lib/python3.10/dist-packages (from lightning[pytorch-extra]) (3.10.0)\n",
            "Requirement already satisfied: omegaconf<3.0,>=2.2.3 in /usr/local/lib/python3.10/dist-packages (from lightning[pytorch-extra]) (2.3.0)\n",
            "Requirement already satisfied: rich<14.0,>=12.3.0 in /usr/local/lib/python3.10/dist-packages (from lightning[pytorch-extra]) (13.9.4)\n",
            "Requirement already satisfied: tensorboardX<3.0,>=2.2 in /usr/local/lib/python3.10/dist-packages (from lightning[pytorch-extra]) (2.6.2.2)\n",
            "Requirement already satisfied: bitsandbytes<1.0,>=0.44.0 in /usr/local/lib/python3.10/dist-packages (from lightning[pytorch-extra]) (0.45.0)\n",
            "Requirement already satisfied: numpy in /usr/local/lib/python3.10/dist-packages (from bitsandbytes<1.0,>=0.44.0->lightning[pytorch-extra]) (1.26.4)\n",
            "Requirement already satisfied: aiohttp!=4.0.0a0,!=4.0.0a1 in /usr/local/lib/python3.10/dist-packages (from fsspec[http]<2026.0,>=2022.5.0->lightning[pytorch-extra]) (3.11.11)\n",
            "Requirement already satisfied: antlr4-python3-runtime==4.9.* in /usr/local/lib/python3.10/dist-packages (from hydra-core<2.0,>=1.2.0->lightning[pytorch-extra]) (4.9.3)\n",
            "Requirement already satisfied: docstring-parser>=0.15 in /usr/local/lib/python3.10/dist-packages (from jsonargparse[signatures]<5.0,>=4.27.7; extra == \"pytorch-extra\"->lightning[pytorch-extra]) (0.16)\n",
            "Requirement already satisfied: typeshed-client>=2.1.0 in /usr/local/lib/python3.10/dist-packages (from jsonargparse[signatures]<5.0,>=4.27.7; extra == \"pytorch-extra\"->lightning[pytorch-extra]) (2.7.0)\n",
            "Requirement already satisfied: setuptools in /usr/local/lib/python3.10/dist-packages (from lightning-utilities<2.0,>=0.10.0->lightning[pytorch-extra]) (75.1.0)\n",
            "Requirement already satisfied: contourpy>=1.0.1 in /usr/local/lib/python3.10/dist-packages (from matplotlib<4.0,>3.1->lightning[pytorch-extra]) (1.3.1)\n",
            "Requirement already satisfied: cycler>=0.10 in /usr/local/lib/python3.10/dist-packages (from matplotlib<4.0,>3.1->lightning[pytorch-extra]) (0.12.1)\n",
            "Requirement already satisfied: fonttools>=4.22.0 in /usr/local/lib/python3.10/dist-packages (from matplotlib<4.0,>3.1->lightning[pytorch-extra]) (4.55.3)\n",
            "Requirement already satisfied: kiwisolver>=1.3.1 in /usr/local/lib/python3.10/dist-packages (from matplotlib<4.0,>3.1->lightning[pytorch-extra]) (1.4.8)\n",
            "Requirement already satisfied: pillow>=8 in /usr/local/lib/python3.10/dist-packages (from matplotlib<4.0,>3.1->lightning[pytorch-extra]) (11.1.0)\n",
            "Requirement already satisfied: pyparsing>=2.3.1 in /usr/local/lib/python3.10/dist-packages (from matplotlib<4.0,>3.1->lightning[pytorch-extra]) (3.2.1)\n",
            "Requirement already satisfied: python-dateutil>=2.7 in /usr/local/lib/python3.10/dist-packages (from matplotlib<4.0,>3.1->lightning[pytorch-extra]) (2.8.2)\n",
            "Requirement already satisfied: markdown-it-py>=2.2.0 in /usr/local/lib/python3.10/dist-packages (from rich<14.0,>=12.3.0->lightning[pytorch-extra]) (3.0.0)\n",
            "Requirement already satisfied: pygments<3.0.0,>=2.13.0 in /usr/local/lib/python3.10/dist-packages (from rich<14.0,>=12.3.0->lightning[pytorch-extra]) (2.18.0)\n",
            "Requirement already satisfied: protobuf>=3.20 in /usr/local/lib/python3.10/dist-packages (from tensorboardX<3.0,>=2.2->lightning[pytorch-extra]) (4.25.5)\n",
            "Requirement already satisfied: filelock in /usr/local/lib/python3.10/dist-packages (from torch<4.0,>=2.1.0->lightning[pytorch-extra]) (3.16.1)\n",
            "Requirement already satisfied: networkx in /usr/local/lib/python3.10/dist-packages (from torch<4.0,>=2.1.0->lightning[pytorch-extra]) (3.4.2)\n",
            "Requirement already satisfied: jinja2 in /usr/local/lib/python3.10/dist-packages (from torch<4.0,>=2.1.0->lightning[pytorch-extra]) (3.1.5)\n",
            "Requirement already satisfied: sympy==1.13.1 in /usr/local/lib/python3.10/dist-packages (from torch<4.0,>=2.1.0->lightning[pytorch-extra]) (1.13.1)\n",
            "Requirement already satisfied: mpmath<1.4,>=1.1.0 in /usr/local/lib/python3.10/dist-packages (from sympy==1.13.1->torch<4.0,>=2.1.0->lightning[pytorch-extra]) (1.3.0)\n",
            "Requirement already satisfied: aiohappyeyeballs>=2.3.0 in /usr/local/lib/python3.10/dist-packages (from aiohttp!=4.0.0a0,!=4.0.0a1->fsspec[http]<2026.0,>=2022.5.0->lightning[pytorch-extra]) (2.4.4)\n",
            "Requirement already satisfied: aiosignal>=1.1.2 in /usr/local/lib/python3.10/dist-packages (from aiohttp!=4.0.0a0,!=4.0.0a1->fsspec[http]<2026.0,>=2022.5.0->lightning[pytorch-extra]) (1.3.2)\n",
            "Requirement already satisfied: async-timeout<6.0,>=4.0 in /usr/local/lib/python3.10/dist-packages (from aiohttp!=4.0.0a0,!=4.0.0a1->fsspec[http]<2026.0,>=2022.5.0->lightning[pytorch-extra]) (4.0.3)\n",
            "Requirement already satisfied: attrs>=17.3.0 in /usr/local/lib/python3.10/dist-packages (from aiohttp!=4.0.0a0,!=4.0.0a1->fsspec[http]<2026.0,>=2022.5.0->lightning[pytorch-extra]) (24.3.0)\n",
            "Requirement already satisfied: frozenlist>=1.1.1 in /usr/local/lib/python3.10/dist-packages (from aiohttp!=4.0.0a0,!=4.0.0a1->fsspec[http]<2026.0,>=2022.5.0->lightning[pytorch-extra]) (1.5.0)\n",
            "Requirement already satisfied: multidict<7.0,>=4.5 in /usr/local/lib/python3.10/dist-packages (from aiohttp!=4.0.0a0,!=4.0.0a1->fsspec[http]<2026.0,>=2022.5.0->lightning[pytorch-extra]) (6.1.0)\n",
            "Requirement already satisfied: propcache>=0.2.0 in /usr/local/lib/python3.10/dist-packages (from aiohttp!=4.0.0a0,!=4.0.0a1->fsspec[http]<2026.0,>=2022.5.0->lightning[pytorch-extra]) (0.2.1)\n",
            "Requirement already satisfied: yarl<2.0,>=1.17.0 in /usr/local/lib/python3.10/dist-packages (from aiohttp!=4.0.0a0,!=4.0.0a1->fsspec[http]<2026.0,>=2022.5.0->lightning[pytorch-extra]) (1.18.3)\n",
            "Requirement already satisfied: mdurl~=0.1 in /usr/local/lib/python3.10/dist-packages (from markdown-it-py>=2.2.0->rich<14.0,>=12.3.0->lightning[pytorch-extra]) (0.1.2)\n",
            "Requirement already satisfied: six>=1.5 in /usr/local/lib/python3.10/dist-packages (from python-dateutil>=2.7->matplotlib<4.0,>3.1->lightning[pytorch-extra]) (1.17.0)\n",
            "Requirement already satisfied: importlib-resources>=1.4.0 in /usr/local/lib/python3.10/dist-packages (from typeshed-client>=2.1.0->jsonargparse[signatures]<5.0,>=4.27.7; extra == \"pytorch-extra\"->lightning[pytorch-extra]) (6.5.2)\n",
            "Requirement already satisfied: MarkupSafe>=2.0 in /usr/local/lib/python3.10/dist-packages (from jinja2->torch<4.0,>=2.1.0->lightning[pytorch-extra]) (3.0.2)\n",
            "Requirement already satisfied: idna>=2.0 in /usr/local/lib/python3.10/dist-packages (from yarl<2.0,>=1.17.0->aiohttp!=4.0.0a0,!=4.0.0a1->fsspec[http]<2026.0,>=2022.5.0->lightning[pytorch-extra]) (3.10)\n",
            "Requirement already satisfied: monai in /usr/local/lib/python3.10/dist-packages (1.4.0)\n",
            "Requirement already satisfied: numpy<2.0,>=1.24 in /usr/local/lib/python3.10/dist-packages (from monai) (1.26.4)\n",
            "Requirement already satisfied: torch>=1.9 in /usr/local/lib/python3.10/dist-packages (from monai) (2.5.1+cu121)\n",
            "Requirement already satisfied: filelock in /usr/local/lib/python3.10/dist-packages (from torch>=1.9->monai) (3.16.1)\n",
            "Requirement already satisfied: typing-extensions>=4.8.0 in /usr/local/lib/python3.10/dist-packages (from torch>=1.9->monai) (4.12.2)\n",
            "Requirement already satisfied: networkx in /usr/local/lib/python3.10/dist-packages (from torch>=1.9->monai) (3.4.2)\n",
            "Requirement already satisfied: jinja2 in /usr/local/lib/python3.10/dist-packages (from torch>=1.9->monai) (3.1.5)\n",
            "Requirement already satisfied: fsspec in /usr/local/lib/python3.10/dist-packages (from torch>=1.9->monai) (2024.10.0)\n",
            "Requirement already satisfied: sympy==1.13.1 in /usr/local/lib/python3.10/dist-packages (from torch>=1.9->monai) (1.13.1)\n",
            "Requirement already satisfied: mpmath<1.4,>=1.1.0 in /usr/local/lib/python3.10/dist-packages (from sympy==1.13.1->torch>=1.9->monai) (1.3.0)\n",
            "Requirement already satisfied: MarkupSafe>=2.0 in /usr/local/lib/python3.10/dist-packages (from jinja2->torch>=1.9->monai) (3.0.2)\n",
            "Collecting SimpleITK\n",
            "  Downloading SimpleITK-2.4.0-cp310-cp310-manylinux_2_17_x86_64.manylinux2014_x86_64.whl.metadata (7.9 kB)\n",
            "Downloading SimpleITK-2.4.0-cp310-cp310-manylinux_2_17_x86_64.manylinux2014_x86_64.whl (52.4 MB)\n",
            "\u001b[2K   \u001b[90m━━━━━━━━━━━━━━━━━━━━━━━━━━━━━━━━━━━━━━━━\u001b[0m \u001b[32m52.4/52.4 MB\u001b[0m \u001b[31m11.6 MB/s\u001b[0m eta \u001b[36m0:00:00\u001b[0m\n",
            "\u001b[?25hInstalling collected packages: SimpleITK\n",
            "Successfully installed SimpleITK-2.4.0\n"
          ]
        }
      ],
      "source": [
        "# don't restart session it's fine colab is a liar\n",
        "!pip3 install torch torchvision torchaudio\n",
        "!pip3 install \"lightning[pytorch-extra]\"\n",
        "!pip3 install monai\n",
        "!pip3 install SimpleITK"
      ]
    },
    {
      "cell_type": "code",
      "execution_count": 3,
      "id": "qjHr3DOmHavn",
      "metadata": {
        "colab": {
          "base_uri": "https://localhost:8080/"
        },
        "id": "qjHr3DOmHavn",
        "outputId": "fe7b9fab-df5b-44e0-95e2-1fb3e08049f8"
      },
      "outputs": [
        {
          "name": "stdout",
          "output_type": "stream",
          "text": [
            "Cloning into 'med_Unet'...\n",
            "remote: Enumerating objects: 185, done.\u001b[K\n",
            "remote: Counting objects: 100% (26/26), done.\u001b[K\n",
            "remote: Compressing objects: 100% (26/26), done.\u001b[K\n",
            "remote: Total 185 (delta 6), reused 2 (delta 0), pack-reused 159 (from 1)\u001b[K\n",
            "Receiving objects: 100% (185/185), 1.24 MiB | 4.83 MiB/s, done.\n",
            "Resolving deltas: 100% (103/103), done.\n"
          ]
        }
      ],
      "source": [
        "! git clone \"https://github.com/Larsdegroot/med_Unet\""
      ]
    },
    {
      "cell_type": "code",
      "execution_count": 5,
      "id": "65D3sMMkHiRt",
      "metadata": {
        "colab": {
          "base_uri": "https://localhost:8080/"
        },
        "id": "65D3sMMkHiRt",
        "outputId": "c758d0de-fd1d-4125-ead3-c0ae4b13d6c9"
      },
      "outputs": [
        {
          "name": "stdout",
          "output_type": "stream",
          "text": [
            "No zipfile found for the WMH dataset in med_Unet/data\n",
            "No zipfile found for the BraTS dataset in med_Unet/data\n"
          ]
        }
      ],
      "source": [
        "import zipfile\n",
        "from pathlib import Path\n",
        "\n",
        "# Define the target directory\n",
        "target_dir = Path(\"med_Unet/data\")\n",
        "\n",
        "# Create the directory if it doesn't exist\n",
        "target_dir.mkdir(parents=True, exist_ok=True)\n",
        "\n",
        "# Extract the ZIP files\n",
        "for dataset in [\"WMH\", \"BraTS\"]:\n",
        "  try:\n",
        "    with zipfile.ZipFile(f\"med_Unet/data/{dataset}.zip\", 'r') as zip_ref:\n",
        "        zip_ref.extractall(target_dir)\n",
        "    print(f\"Extracted the {dataset} dataset.\")\n",
        "  except FileNotFoundError: print(f\"No zipfile found for the {dataset} dataset in {target_dir}\")\n",
        "  except zipfile.BadZipFile: print(f\"Zipfile for {dataset} not complete, wait for it to upload\")\n"
      ]
    },
    {
      "cell_type": "markdown",
      "id": "20f3b8e1",
      "metadata": {},
      "source": [
        "## Config rclone"
      ]
    },
    {
      "cell_type": "code",
      "execution_count": null,
      "id": "5d0f17f7",
      "metadata": {},
      "outputs": [],
      "source": [
        "!wget https://downloads.rclone.org/v1.68.2/rclone-v1.68.2-linux-amd64.deb\n",
        "!apt install ./rclone-v1.68.2-linux-amd64.deb\n",
        "!sudo apt-get -y install fuse3"
      ]
    },
    {
      "cell_type": "code",
      "execution_count": null,
      "id": "26f1c924",
      "metadata": {},
      "outputs": [],
      "source": [
        "!rclone config\n",
        "#!rclone config create onedrive onedrive"
      ]
    },
    {
      "cell_type": "code",
      "execution_count": null,
      "id": "086185fe",
      "metadata": {},
      "outputs": [],
      "source": [
        "!sudo mkdir /content/onedrive\n",
        "\n",
        "!rclone mount onedrive:/ /content/onedrive --daemon --vfs-cache-mode full --log-file /tmp/rclone.log --log-level DEBUG"
      ]
    },
    {
      "cell_type": "markdown",
      "id": "6a96c686-0d1e-46d1-a87b-6172b3e43b32",
      "metadata": {
        "id": "6a96c686-0d1e-46d1-a87b-6172b3e43b32"
      },
      "source": [
        "## Run training"
      ]
    },
    {
      "cell_type": "code",
      "execution_count": null,
      "id": "70053808-1718-4eb2-a77f-267ff9e1074d",
      "metadata": {
        "colab": {
          "base_uri": "https://localhost:8080/"
        },
        "id": "70053808-1718-4eb2-a77f-267ff9e1074d",
        "outputId": "f6e96612-9758-419a-afef-e84f80a4119a"
      },
      "outputs": [
        {
          "name": "stdout",
          "output_type": "stream",
          "text": [
            "2025-01-08 13:36:51.773672: E external/local_xla/xla/stream_executor/cuda/cuda_fft.cc:485] Unable to register cuFFT factory: Attempting to register factory for plugin cuFFT when one has already been registered\n",
            "2025-01-08 13:36:51.808785: E external/local_xla/xla/stream_executor/cuda/cuda_dnn.cc:8454] Unable to register cuDNN factory: Attempting to register factory for plugin cuDNN when one has already been registered\n",
            "2025-01-08 13:36:51.819142: E external/local_xla/xla/stream_executor/cuda/cuda_blas.cc:1452] Unable to register cuBLAS factory: Attempting to register factory for plugin cuBLAS when one has already been registered\n",
            "2025-01-08 13:36:51.844393: I tensorflow/core/platform/cpu_feature_guard.cc:210] This TensorFlow binary is optimized to use available CPU instructions in performance-critical operations.\n",
            "To enable the following instructions: AVX2 AVX512F FMA, in other operations, rebuild TensorFlow with the appropriate compiler flags.\n",
            "2025-01-08 13:36:53.465682: W tensorflow/compiler/tf2tensorrt/utils/py_utils.cc:38] TF-TRT Warning: Could not find TensorRT\n",
            "/usr/local/lib/python3.10/dist-packages/lightning/fabric/utilities/seed.py:42: No seed found, seed set to 0\n",
            "Seed set to 0\n",
            "input keys: ['flair', 't1']\n",
            "label key: WMH\n",
            "GPU available: True (cuda), used: True\n",
            "TPU available: False, using: 0 TPU cores\n",
            "HPU available: False, using: 0 HPUs\n",
            "Loading dataset: 100% 144/144 [01:22<00:00,  1.74it/s]\n",
            "Loading dataset: 100% 18/18 [00:09<00:00,  1.94it/s]\n",
            "Loading dataset: 100% 18/18 [00:10<00:00,  1.70it/s]\n",
            "LOCAL_RANK: 0 - CUDA_VISIBLE_DEVICES: [0]\n",
            "\n",
            "  | Name  | Type | Params | Mode \n",
            "---------------------------------------\n",
            "0 | model | UNet | 332 K  | train\n",
            "---------------------------------------\n",
            "332 K     Trainable params\n",
            "0         Non-trainable params\n",
            "332 K     Total params\n",
            "1.330     Total estimated model params size (MB)\n",
            "81        Modules in train mode\n",
            "0         Modules in eval mode\n",
            "Sanity Checking: |          | 0/? [00:00<?, ?it/s]/usr/local/lib/python3.10/dist-packages/torch/utils/data/dataloader.py:617: UserWarning: This DataLoader will create 8 worker processes in total. Our suggested max number of worker in current system is 2, which is smaller than what this DataLoader is going to create. Please be aware that excessive worker creation might get DataLoader running slow or even freeze, lower the worker number to avoid potential slowness/freeze if necessary.\n",
            "  warnings.warn(\n",
            "Epoch 0: 100% 36/36 [02:31<00:00,  4.20s/it, v_num=1, train_loss=0.00304]\n",
            "Validation: |          | 0/? [00:00<?, ?it/s]\u001b[A\n",
            "Validation:   0% 0/5 [00:00<?, ?it/s]        \u001b[A\n",
            "Validation DataLoader 0:   0% 0/5 [00:00<?, ?it/s]\u001b[A\n",
            "Validation DataLoader 0: 100% 5/5 [00:03<00:00,  1.34it/s]\u001b[A\n",
            "Epoch 1: 100% 36/36 [02:38<00:00,  4.41s/it, v_num=1, train_loss=0.00107, val_loss=0.00258]\n",
            "Validation: |          | 0/? [00:00<?, ?it/s]\u001b[A\n",
            "Validation:   0% 0/5 [00:00<?, ?it/s]        \u001b[A\n",
            "Validation DataLoader 0:   0% 0/5 [00:00<?, ?it/s]\u001b[A\n",
            "Validation DataLoader 0: 100% 5/5 [00:03<00:00,  1.55it/s]\u001b[A\n",
            "Epoch 2: 100% 36/36 [02:38<00:00,  4.40s/it, v_num=1, train_loss=0.00127, val_loss=0.00296]\n",
            "Validation: |          | 0/? [00:00<?, ?it/s]\u001b[A\n",
            "Validation:   0% 0/5 [00:00<?, ?it/s]        \u001b[A\n",
            "Validation DataLoader 0:   0% 0/5 [00:00<?, ?it/s]\u001b[A\n",
            "Validation DataLoader 0: 100% 5/5 [00:03<00:00,  1.57it/s]\u001b[A\n",
            "Epoch 3: 100% 36/36 [02:37<00:00,  4.39s/it, v_num=1, train_loss=0.000427, val_loss=0.00162]\n",
            "Validation: |          | 0/? [00:00<?, ?it/s]\u001b[A\n",
            "Validation:   0% 0/5 [00:00<?, ?it/s]        \u001b[A\n",
            "Validation DataLoader 0:   0% 0/5 [00:00<?, ?it/s]\u001b[A\n",
            "Validation DataLoader 0: 100% 5/5 [00:03<00:00,  1.61it/s]\u001b[A\n",
            "Epoch 3: 100% 36/36 [02:44<00:00,  4.56s/it, v_num=1, train_loss=0.000427, val_loss=0.00717]`Trainer.fit` stopped: `max_epochs=4` reached.\n",
            "Epoch 3: 100% 36/36 [02:44<00:00,  4.56s/it, v_num=1, train_loss=0.000427, val_loss=0.00717]\n"
          ]
        }
      ],
      "source": [
        "!python3 med_Unet/main.py fit --config med_Unet/configs/default_config_2.yaml --logger tensorboard --log_dir /content/onedrive/logs --name default_config_2"
      ]
    },
    {
      "cell_type": "markdown",
      "id": "815bd2a3-f5cc-40fa-a2dd-a2bdfe25ee03",
      "metadata": {
        "id": "815bd2a3-f5cc-40fa-a2dd-a2bdfe25ee03"
      },
      "source": [
        "## Run Testing"
      ]
    },
    {
      "cell_type": "code",
      "execution_count": null,
      "id": "bc8ec5e9-3283-4040-8b73-e24a207851a0",
      "metadata": {
        "id": "bc8ec5e9-3283-4040-8b73-e24a207851a0"
      },
      "outputs": [],
      "source": [
        "#!python3 med_Unet/main.py test --config med_Unet/configs/testing_config"
      ]
    }
  ],
  "metadata": {
    "colab": {
      "include_colab_link": true,
      "provenance": []
    },
    "kernelspec": {
      "display_name": "venv",
      "language": "python",
      "name": "python3"
    },
    "language_info": {
      "codemirror_mode": {
        "name": "ipython",
        "version": 3
      },
      "file_extension": ".py",
      "mimetype": "text/x-python",
      "name": "python",
      "nbconvert_exporter": "python",
      "pygments_lexer": "ipython3",
      "version": "3.12.8"
    }
  },
  "nbformat": 4,
  "nbformat_minor": 5
}
