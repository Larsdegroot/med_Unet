{
 "cells": [
  {
   "cell_type": "markdown",
   "id": "19c5d769-2bc8-40ed-b4e4-0827f9413e5c",
   "metadata": {},
   "source": [
    "# Run UNet Training\n",
    "This notebook is meant to be used in google colab to train a UNet model on the WMH dataset for MRI brain image segmentation."
   ]
  },
  {
   "cell_type": "markdown",
   "id": "110c742f-af05-429b-a1e0-542abe5bf94c",
   "metadata": {},
   "source": [
    "## Set up environment"
   ]
  },
  {
   "cell_type": "code",
   "execution_count": null,
   "id": "6718726d-3e90-44b2-b62e-2607c57bc2dc",
   "metadata": {},
   "outputs": [],
   "source": [
    "!pip3 install torch torchvision torchaudio\n",
    "!pip3 install \"lightning[pytorch-extra]\"\n",
    "!pip3 install monai"
   ]
  },
  {
   "cell_type": "markdown",
   "id": "6a96c686-0d1e-46d1-a87b-6172b3e43b32",
   "metadata": {},
   "source": [
    "## Run training"
   ]
  },
  {
   "cell_type": "code",
   "execution_count": null,
   "id": "70053808-1718-4eb2-a77f-267ff9e1074d",
   "metadata": {},
   "outputs": [],
   "source": [
    "!python3 main.py fit --config configs/default_config.yaml"
   ]
  },
  {
   "cell_type": "markdown",
   "id": "815bd2a3-f5cc-40fa-a2dd-a2bdfe25ee03",
   "metadata": {},
   "source": [
    "## Run Testing"
   ]
  },
  {
   "cell_type": "code",
   "execution_count": null,
   "id": "bc8ec5e9-3283-4040-8b73-e24a207851a0",
   "metadata": {},
   "outputs": [],
   "source": []
  }
 ],
 "metadata": {
  "kernelspec": {
   "display_name": "Python 3 (ipykernel)",
   "language": "python",
   "name": "python3"
  },
  "language_info": {
   "codemirror_mode": {
    "name": "ipython",
    "version": 3
   },
   "file_extension": ".py",
   "mimetype": "text/x-python",
   "name": "python",
   "nbconvert_exporter": "python",
   "pygments_lexer": "ipython3",
   "version": "3.10.16"
  }
 },
 "nbformat": 4,
 "nbformat_minor": 5
}
