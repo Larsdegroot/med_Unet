{
 "cells": [
  {
   "cell_type": "markdown",
   "id": "9cc99e00-84bf-4594-82da-5708c1dce78c",
   "metadata": {},
   "source": [
    "# Model Architecture setup\n",
    "This notebook will give a quick explaination of the archtecture. the final architecture will live in a pyhton script."
   ]
  },
  {
   "cell_type": "code",
   "execution_count": 1,
   "id": "1a08bd19-e21a-49e5-a65a-f7bf9c082e0f",
   "metadata": {},
   "outputs": [],
   "source": [
    "import torch\n",
    "from torch import nn"
   ]
  },
  {
   "cell_type": "markdown",
   "id": "9ea2e827-7ad4-452e-b58f-9549f5d97965",
   "metadata": {},
   "source": [
    "The UNet architecture consist of 3 main parts:\n",
    "- Double convolution\n",
    "- downsampling\n",
    "- upsampling\n",
    "\n",
    "![architecture schematic](https://lmb.informatik.uni-freiburg.de/people/ronneber/u-net/u-net-architecture.png) "
   ]
  },
  {
   "cell_type": "markdown",
   "id": "f3971e61-837c-4f6f-bb24-059cfe0b0b2d",
   "metadata": {},
   "source": [
    "We are going the 2d route and i believe our data is greyscale so the the dimensions should be:\n",
    "- [N, 1, H, W]\n",
    "- this step will be different from normal double conc because we are not doubling the amount of samples but just creating 64\n",
    "- after double conv: [N, 64, H-4, W-4]\n",
    "- after downsampling: [N, 64, H/2, W/2]\n",
    "\n",
    "The general idea:\n",
    "- each double conv: double samples and, due to convolutional kernal being 3*3, H-4 and W-4"
   ]
  },
  {
   "cell_type": "code",
   "execution_count": 2,
   "id": "72579497-d95d-4bec-8c69-c10ebadf345d",
   "metadata": {},
   "outputs": [],
   "source": [
    "# Class holding the double convolution\n",
    "class DoubleConv(nn.Module):\n",
    "    def __init__(\n",
    "        self,\n",
    "        in_channels: int,\n",
    "        out_channels: int,\n",
    "        use_norm: bool = True,\n",
    "    ) -> None:\n",
    "        super().__init__()\n",
    "        \n",
    "        # For now we are just considering 2d input\n",
    "        # Thus expected input dimensions is [batch_size, channels, height, width] \n",
    "        # Or when not using batches [channels, height, width]\n",
    "        # Or in the convention of pytorch: (N, C, H, W) or (C, H, W)\n",
    "\n",
    "        # nn.Identity just return it's input so it's used as a replacement for normalization if normalization is not used\n",
    "        # TO DO: find out what batchnorm does exactly\n",
    "        # TO DO: Find out how exactly relu works\n",
    "        conv = nn.Conv2d\n",
    "        norm = nn.BatchNorm2d if use_norm else nn.Identity \n",
    "        activation_function = nn.ReLU\n",
    "\n",
    "        layers = [\n",
    "            conv(self.in_channels, self.out_channels),\n",
    "            norm(self.out_channels),\n",
    "            activation_function(inplace=True),\n",
    "            conv(self.out_channels, self.out_channels),\n",
    "            norm(self.out_channels),\n",
    "            activation_function(inplace=True)    \n",
    "        ]\n",
    "\n",
    "        self.double_conv = nn.Sequential(*layers)\n",
    "\n",
    "    def forward(self, x):\n",
    "        return self.double_conv(x)"
   ]
  },
  {
   "cell_type": "code",
   "execution_count": 3,
   "id": "18cd3add-8ec3-444a-88a1-78eaf3a11ae9",
   "metadata": {},
   "outputs": [],
   "source": [
    "# Class holding the downsampling\n",
    "class DownSample(nn.Module):\n",
    "    def __init__(\n",
    "        self,\n",
    "        in_channels: int,\n",
    "        out_channels: int\n",
    "    ) -> None:\n",
    "\n",
    "        super.__init__()\n",
    "\n",
    "        # with kernel_size 2 and stride 2 the dimensions will be halved\n",
    "        self.downsample = nn.MaxPool2d(\n",
    "            kernel_size=2,\n",
    "            stride=2\n",
    "        )\n",
    "\n",
    "        def forward(self, x):\n",
    "            return self.downsample(x)"
   ]
  },
  {
   "cell_type": "code",
   "execution_count": 4,
   "id": "517ba584-66d4-41f7-b03a-3e22696cfd2c",
   "metadata": {},
   "outputs": [],
   "source": [
    "# Class holding the upsampling\n",
    "class UpSample(nn.Module):\n",
    "    def __init__(\n",
    "        self,\n",
    "        in_channels: int,\n",
    "        out_channels: int\n",
    "    ) -> None:\n",
    "\n",
    "        super.__init__()\n",
    "\n",
    "        # with kernel_size 2 and stride 2 the dimensions will be doubled\n",
    "        self.upsample = nn.ConvTranspose2d(\n",
    "            in_channels,\n",
    "            out_channels,\n",
    "            kernel_size=2,\n",
    "            stride=2\n",
    "        )\n",
    "\n",
    "        def forward(self, x):\n",
    "            return self.upsample(x)"
   ]
  },
  {
   "cell_type": "code",
   "execution_count": 6,
   "id": "91a963bb-0776-452a-a4fd-e315aee2f30f",
   "metadata": {},
   "outputs": [],
   "source": [
    "# Class holding the entire model:\n",
    "class SegmentUnet(nn.Module):\n",
    "    def __init__(\n",
    "        self,\n",
    "    ) -> None:\n",
    "        super().__init__()\n",
    "\n",
    "        # Define the input layer\n",
    "        layers = [DoubleConv(self.n_dims, self.in_channels , self.in_channels*64, use_normalization)]\n",
    "\n",
    "        # Encoder path\n",
    "\n",
    "        # Decoder path"
   ]
  },
  {
   "cell_type": "code",
   "execution_count": null,
   "id": "816f6abd-c6f6-4757-a266-4d24129bd655",
   "metadata": {},
   "outputs": [],
   "source": []
  }
 ],
 "metadata": {
  "kernelspec": {
   "display_name": "Python 3 (ipykernel)",
   "language": "python",
   "name": "python3"
  },
  "language_info": {
   "codemirror_mode": {
    "name": "ipython",
    "version": 3
   },
   "file_extension": ".py",
   "mimetype": "text/x-python",
   "name": "python",
   "nbconvert_exporter": "python",
   "pygments_lexer": "ipython3",
   "version": "3.10.9"
  }
 },
 "nbformat": 4,
 "nbformat_minor": 5
}
