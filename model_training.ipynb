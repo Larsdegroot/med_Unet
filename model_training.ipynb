{
 "cells": [
  {
   "cell_type": "code",
   "execution_count": 7,
   "metadata": {},
   "outputs": [],
   "source": [
    "import torch\n",
    "from torch import nn\n",
    "from tqdm.auto import tqdm\n",
    "from typing import Callable"
   ]
  },
  {
   "cell_type": "code",
   "execution_count": 8,
   "metadata": {},
   "outputs": [],
   "source": [
    "class ModelTraining():\n",
    "    def __init__(\n",
    "        self,\n",
    "        n_epochs: int,\n",
    "        batch_size: int,\n",
    "        learning_rate: float,\n",
    "        loss_fn: Callable,\n",
    "        samples: list\n",
    "    ) -> None:\n",
    "        self.device = torch.device(\"cuda\" if torch.cuda.is_available() else \"cpu\")\n",
    "        self.model = UNet(n_dims=2, in_channels=1, out_channels=1, depth=3).to(self.device)\n",
    "        self.loss_fn = loss_fn\n",
    "        self.optimizer = torch.optim.Adam(self.model.parameters(), lr=learning_rate)\n",
    "        self.train_ds, self.train_dl, self.val_ds, self.val_dl = self._split_samples(samples)\n",
    "    \n",
    "    def run_training_loop(self):\n",
    "        for epoch in (prog_bar := tqdm(range(self.n_epochs), desc=\"Training\", unit=\"epoch\", total=self.n_epochs, position=0)):\n",
    "            prog_bar.set_description(f\"Training Loop\")\n",
    "            train_losses = self._loop_train()\n",
    "            prog_bar.set_postfix({\"Training loss\": sum(train_losses) / len(train_losses)})\n",
    "            prog_bar.set_description(f\"Validation Loop\")\n",
    "            val_losses = self._loop_validate()\n",
    "            prog_bar.set_postfix({\"Training loss\": sum(train_losses) / len(train_losses), \"Validation loss\": sum(val_losses) / len(val_losses)})\n",
    "        \n",
    "    def _loop_train(self):\n",
    "        self.model.train()\n",
    "        train_losses = []\n",
    "\n",
    "        for i, (image, label) in tqdm(enumerate(self.train_dl), total=len(self.train_dl), desc=\"Training\", unit=\"batch\", position=1, leave=False):\n",
    "            \n",
    "            image, label = image.to(self.device), label.to(self.device)\n",
    "\n",
    "            self.optimizer.zero_grad() # Clear gradients\n",
    "            output = self.model(...) # Model forward pass\n",
    "            loss = loss_fn(output, label)  # Compute loss\n",
    "            loss.backward()  # Backpropagate loss\n",
    "            self.optimizer.step()  # Update model weights\n",
    "\n",
    "            train_losses.append(loss.item()) # Append training loss for this batch\n",
    "\n",
    "        return train_losses\n",
    "\n",
    "    def _loop_validate(self):\n",
    "        self.model.eval() # We set the model in evaluation mode\n",
    "        val_losses = []\n",
    "        for i, (image, label) in tqdm(enumerate(self.val_dl), total=len(self.val_dl), desc=\"Validation\", unit=\"batch\", position=1, leave=False):\n",
    "            image, label = image.to(self.device), label.to(self.device)\n",
    "\n",
    "            with torch.no_grad():\n",
    "                output = self.model(image)\n",
    "                loss = loss_fn(output, label)\n",
    "            \n",
    "            val_losses.append(loss.item())\n",
    "\n",
    "        return val_losses\n",
    "\n",
    "    def _split_samples(self, samples): #TODO - adjust this function to our data\n",
    "        train_samples = samples[0 : int(len(samples) * 0.8)]\n",
    "        val_samples = samples[int(len(samples) * 0.8): ]\n",
    "\n",
    "        train_ds = MedicalDecathlonDataset(train_samples) #TODO - change to our own dataset class\n",
    "        train_dl = DataLoader(train_ds, batch_size=batch_size, shuffle=True) #TODO - change to our DataLoader class\n",
    "\n",
    "        val_ds = MedicalDecathlonDataset(val_samples) #TODO - change to our own dataset class\n",
    "        val_dl = DataLoader(val_ds, batch_size=batch_size, shuffle=False) #TODO - change to our DataLoader class\n",
    "        return train_ds, train_dl, val_ds, val_dl\n"
   ]
  },
  {
   "cell_type": "code",
   "execution_count": 10,
   "metadata": {},
   "outputs": [
    {
     "ename": "NameError",
     "evalue": "name 'UNet' is not defined",
     "output_type": "error",
     "traceback": [
      "\u001b[1;31m---------------------------------------------------------------------------\u001b[0m",
      "\u001b[1;31mNameError\u001b[0m                                 Traceback (most recent call last)",
      "Cell \u001b[1;32mIn[10], line 3\u001b[0m\n\u001b[0;32m      1\u001b[0m loss_functions \u001b[38;5;241m=\u001b[39m [nn\u001b[38;5;241m.\u001b[39mBCEWithLogitsLoss()] \u001b[38;5;66;03m#TODO - add different loss functions to evaluate\u001b[39;00m\n\u001b[0;32m      2\u001b[0m \u001b[38;5;28;01mfor\u001b[39;00m loss_fn \u001b[38;5;129;01min\u001b[39;00m loss_functions:\n\u001b[1;32m----> 3\u001b[0m     Model_training \u001b[38;5;241m=\u001b[39m \u001b[43mModelTraining\u001b[49m\u001b[43m(\u001b[49m\n\u001b[0;32m      4\u001b[0m \u001b[43m        \u001b[49m\u001b[43mn_epochs\u001b[49m\u001b[43m \u001b[49m\u001b[38;5;241;43m=\u001b[39;49m\u001b[43m \u001b[49m\u001b[38;5;241;43m10\u001b[39;49m\u001b[43m,\u001b[49m\n\u001b[0;32m      5\u001b[0m \u001b[43m        \u001b[49m\u001b[43mbatch_size\u001b[49m\u001b[43m \u001b[49m\u001b[38;5;241;43m=\u001b[39;49m\u001b[43m \u001b[49m\u001b[38;5;241;43m4\u001b[39;49m\u001b[43m,\u001b[49m\n\u001b[0;32m      6\u001b[0m \u001b[43m        \u001b[49m\u001b[43mlearning_rate\u001b[49m\u001b[43m \u001b[49m\u001b[38;5;241;43m=\u001b[39;49m\u001b[43m \u001b[49m\u001b[38;5;241;43m1e-3\u001b[39;49m\u001b[43m,\u001b[49m\n\u001b[0;32m      7\u001b[0m \u001b[43m        \u001b[49m\u001b[43mloss_fn\u001b[49m\u001b[43m \u001b[49m\u001b[38;5;241;43m=\u001b[39;49m\u001b[43m \u001b[49m\u001b[43mloss_fn\u001b[49m\u001b[43m,\u001b[49m\n\u001b[0;32m      8\u001b[0m \u001b[43m        \u001b[49m\u001b[43msamples\u001b[49m\u001b[43m \u001b[49m\u001b[38;5;241;43m=\u001b[39;49m\u001b[43m \u001b[49m\u001b[43m[\u001b[49m\u001b[43m]\u001b[49m\n\u001b[0;32m      9\u001b[0m \u001b[43m        \u001b[49m\u001b[43m)\u001b[49m\n\u001b[0;32m     11\u001b[0m     Model_training\u001b[38;5;241m.\u001b[39mrun_training_loop()\n",
      "Cell \u001b[1;32mIn[8], line 11\u001b[0m, in \u001b[0;36mModelTraining.__init__\u001b[1;34m(self, n_epochs, batch_size, learning_rate, loss_fn, samples)\u001b[0m\n\u001b[0;32m      2\u001b[0m \u001b[38;5;28;01mdef\u001b[39;00m \u001b[38;5;21m__init__\u001b[39m(\n\u001b[0;32m      3\u001b[0m     \u001b[38;5;28mself\u001b[39m,\n\u001b[0;32m      4\u001b[0m     n_epochs: \u001b[38;5;28mint\u001b[39m,\n\u001b[1;32m   (...)\u001b[0m\n\u001b[0;32m      8\u001b[0m     samples: \u001b[38;5;28mlist\u001b[39m\n\u001b[0;32m      9\u001b[0m ) \u001b[38;5;241m-\u001b[39m\u001b[38;5;241m>\u001b[39m \u001b[38;5;28;01mNone\u001b[39;00m:\n\u001b[0;32m     10\u001b[0m     \u001b[38;5;28mself\u001b[39m\u001b[38;5;241m.\u001b[39mdevice \u001b[38;5;241m=\u001b[39m torch\u001b[38;5;241m.\u001b[39mdevice(\u001b[38;5;124m\"\u001b[39m\u001b[38;5;124mcuda\u001b[39m\u001b[38;5;124m\"\u001b[39m \u001b[38;5;28;01mif\u001b[39;00m torch\u001b[38;5;241m.\u001b[39mcuda\u001b[38;5;241m.\u001b[39mis_available() \u001b[38;5;28;01melse\u001b[39;00m \u001b[38;5;124m\"\u001b[39m\u001b[38;5;124mcpu\u001b[39m\u001b[38;5;124m\"\u001b[39m)\n\u001b[1;32m---> 11\u001b[0m     \u001b[38;5;28mself\u001b[39m\u001b[38;5;241m.\u001b[39mmodel \u001b[38;5;241m=\u001b[39m \u001b[43mUNet\u001b[49m(n_dims\u001b[38;5;241m=\u001b[39m\u001b[38;5;241m2\u001b[39m, in_channels\u001b[38;5;241m=\u001b[39m\u001b[38;5;241m1\u001b[39m, out_channels\u001b[38;5;241m=\u001b[39m\u001b[38;5;241m1\u001b[39m, depth\u001b[38;5;241m=\u001b[39m\u001b[38;5;241m3\u001b[39m)\u001b[38;5;241m.\u001b[39mto(\u001b[38;5;28mself\u001b[39m\u001b[38;5;241m.\u001b[39mdevice)\n\u001b[0;32m     12\u001b[0m     \u001b[38;5;28mself\u001b[39m\u001b[38;5;241m.\u001b[39mloss_fn \u001b[38;5;241m=\u001b[39m loss_fn\n\u001b[0;32m     13\u001b[0m     \u001b[38;5;28mself\u001b[39m\u001b[38;5;241m.\u001b[39moptimizer \u001b[38;5;241m=\u001b[39m torch\u001b[38;5;241m.\u001b[39moptim\u001b[38;5;241m.\u001b[39mAdam(\u001b[38;5;28mself\u001b[39m\u001b[38;5;241m.\u001b[39mmodel\u001b[38;5;241m.\u001b[39mparameters(), lr\u001b[38;5;241m=\u001b[39mlearning_rate)\n",
      "\u001b[1;31mNameError\u001b[0m: name 'UNet' is not defined"
     ]
    }
   ],
   "source": [
    "loss_functions = [nn.BCEWithLogitsLoss()] #TODO - add different loss functions to evaluate\n",
    "for loss_fn in loss_functions:\n",
    "    Model_training = ModelTraining(\n",
    "        n_epochs = 10,\n",
    "        batch_size = 4,\n",
    "        learning_rate = 1e-3,\n",
    "        loss_fn = loss_fn,\n",
    "        samples = []\n",
    "        )\n",
    "\n",
    "    Model_training.run_training_loop()"
   ]
  }
 ],
 "metadata": {
  "kernelspec": {
   "display_name": "Python 3 (ipykernel)",
   "language": "python",
   "name": "python3"
  },
  "language_info": {
   "codemirror_mode": {
    "name": "ipython",
    "version": 3
   },
   "file_extension": ".py",
   "mimetype": "text/x-python",
   "name": "python",
   "nbconvert_exporter": "python",
   "pygments_lexer": "ipython3",
   "version": "3.10.9"
  }
 },
 "nbformat": 4,
 "nbformat_minor": 4
}
